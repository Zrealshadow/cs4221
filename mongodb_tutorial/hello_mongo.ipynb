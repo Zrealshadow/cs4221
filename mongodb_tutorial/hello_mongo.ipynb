{
 "cells": [
  {
   "cell_type": "code",
   "execution_count": 1,
   "metadata": {},
   "outputs": [],
   "source": [
    "import datetime\n",
    "import pprint\n",
    "import pymongo\n",
    "from pymongo import MongoClient\n",
    "\n"
   ]
  },
  {
   "cell_type": "code",
   "execution_count": 2,
   "metadata": {},
   "outputs": [],
   "source": [
    "HOST = '10.10.10.250'\n",
    "PORT = 27017\n",
    "URL = f'mongodb://{HOST}:{PORT}/'\n",
    "client = MongoClient(URL)"
   ]
  },
  {
   "cell_type": "code",
   "execution_count": 3,
   "metadata": {},
   "outputs": [
    {
     "name": "stdout",
     "output_type": "stream",
     "text": [
      "['admin', 'config', 'local', 'test']\n"
     ]
    }
   ],
   "source": [
    "# -------------------------- 1. Get the database --------------------------\n",
    "# A single instance of MongoDB can support multiple independent databases. \n",
    "# print all the databases \n",
    "print(client.list_database_names())\n",
    "\n",
    "DB_NAME = 'test'\n",
    "# if will create a new database if the name does not exist\n",
    "db = client[DB_NAME]"
   ]
  },
  {
   "cell_type": "code",
   "execution_count": 4,
   "metadata": {},
   "outputs": [
    {
     "name": "stdout",
     "output_type": "stream",
     "text": [
      "['test_collection', 'profiles']\n",
      "collection test_collection already exists\n"
     ]
    }
   ],
   "source": [
    "# -------------------------- 2. Get the collection --------------------------\n",
    "# A collection is a group of documents stored in MongoDB\n",
    "# and can be thought of as roughly the equivalent of a table in relational databases\n",
    "\n",
    "# print all the collections in the database\n",
    "print(db.list_collection_names())\n",
    "\n",
    "collection_name = 'test_collection'\n",
    "if collection_name in db.list_collection_names():\n",
    "    print(f'collection {collection_name} already exists')\n",
    "    # reset and initialize the collection\n",
    "    db.drop_collection(collection_name)\n",
    "    \n",
    "\n",
    "# get a collection\n",
    "\n",
    "collection = db[collection_name]"
   ]
  },
  {
   "cell_type": "code",
   "execution_count": 5,
   "metadata": {},
   "outputs": [
    {
     "name": "stdout",
     "output_type": "stream",
     "text": [
      "['admin', 'config', 'local', 'test']\n",
      "['profiles']\n"
     ]
    }
   ],
   "source": [
    "# [important note]\n",
    "# collections in MongoDB are not created lazily.\n",
    "# **collections and databases are created when the first document is inserted into them**\n",
    "# which means until this step, the collection and db are not created in mongodb server yet.\n",
    "\n",
    "print(client.list_database_names())\n",
    "print(db.list_collection_names())\n",
    "\n",
    "# find there are no this collection and database, since we have not inserted any document yet."
   ]
  },
  {
   "cell_type": "code",
   "execution_count": 6,
   "metadata": {},
   "outputs": [
    {
     "name": "stdout",
     "output_type": "stream",
     "text": [
      "InsertOneResult(ObjectId('67b19653185594fa22d29d76'), acknowledged=True)\n"
     ]
    },
    {
     "data": {
      "text/plain": [
       "ObjectId('67b19653185594fa22d29d76')"
      ]
     },
     "execution_count": 6,
     "metadata": {},
     "output_type": "execute_result"
    }
   ],
   "source": [
    "# -------------------------- 3. Insert a document --------------------------\n",
    "# Data in MongoDB is represented (and stored) using JSON-style documents.\n",
    "# the following dictionary might be used to represent a blog post:\n",
    "post = {\n",
    "    \"author\": \"Mike\",\n",
    "    \"text\": \"My first blog post!\",\n",
    "    \"tags\": [\"mongodb\", \"python\", \"pymongo\"],\n",
    "    \"date\": datetime.datetime.utcnow()\n",
    "}\n",
    "\n",
    "# the documents contains native python types \n",
    "# which will be automatically converted to the appropriate BSON type\n",
    "# BSON: https://bsonspec.org/\n",
    "\n",
    "res = collection.insert_one(post)\n",
    "print(res)\n",
    "post_id = res.inserted_id\n",
    "post_id\n",
    "# when a document is inserted a special key, \"_id\", is automatically added \n",
    "# if the document doesn’t already contain an \"_id\" key.\n",
    "# The value of \"_id\" must be unique across the collection.\n",
    "\n",
    "# <res> an instance of \"InsertOneResult\" class."
   ]
  },
  {
   "cell_type": "code",
   "execution_count": 7,
   "metadata": {},
   "outputs": [
    {
     "name": "stdout",
     "output_type": "stream",
     "text": [
      "['admin', 'config', 'local', 'test']\n",
      "['profiles', 'test_collection']\n"
     ]
    }
   ],
   "source": [
    "# check the collection and database again\n",
    "print(client.list_database_names())\n",
    "print(db.list_collection_names())"
   ]
  },
  {
   "cell_type": "code",
   "execution_count": 8,
   "metadata": {},
   "outputs": [
    {
     "name": "stdout",
     "output_type": "stream",
     "text": [
      " ------------ find one () ------------\n",
      "{'_id': ObjectId('67b19653185594fa22d29d76'),\n",
      " 'author': 'Mike',\n",
      " 'date': datetime.datetime(2025, 2, 16, 7, 40, 3, 867000),\n",
      " 'tags': ['mongodb', 'python', 'pymongo'],\n",
      " 'text': 'My first blog post!'}\n",
      "\n",
      " ------------ find_one 'author' is 'Mike' ------------\n",
      "{'_id': ObjectId('67b19653185594fa22d29d76'),\n",
      " 'author': 'Mike',\n",
      " 'date': datetime.datetime(2025, 2, 16, 7, 40, 3, 867000),\n",
      " 'tags': ['mongodb', 'python', 'pymongo'],\n",
      " 'text': 'My first blog post!'}\n",
      "\n",
      " ------------ find_one 'tags' contain 'mongodb' ------------\n",
      "{'_id': ObjectId('67b19653185594fa22d29d76'),\n",
      " 'author': 'Mike',\n",
      " 'date': datetime.datetime(2025, 2, 16, 7, 40, 3, 867000),\n",
      " 'tags': ['mongodb', 'python', 'pymongo'],\n",
      " 'text': 'My first blog post!'}\n",
      "\n",
      " ------------ find_one 'tags' not contain 'python' ------------\n",
      "None\n",
      "\n",
      " ------------ find_one '_id' ------------\n",
      "{'_id': ObjectId('67b19653185594fa22d29d76'),\n",
      " 'author': 'Mike',\n",
      " 'date': datetime.datetime(2025, 2, 16, 7, 40, 3, 867000),\n",
      " 'tags': ['mongodb', 'python', 'pymongo'],\n",
      " 'text': 'My first blog post!'}\n",
      "\n"
     ]
    }
   ],
   "source": [
    "# -------------------------- 4. Query for a document --------------------------\n",
    "# find_one() method returns a single document matching a query (or None if there are no matches).\n",
    "# it is useful when you know there is only one matching document, or are only interested in the first match.\n",
    "print(\" ------------ find one () ------------\")\n",
    "pprint.pprint(collection.find_one())\n",
    "print()\n",
    "\n",
    "# find_one() also supports querying on specific elements that the resulting document must match.\n",
    "# for example, this query selects only documents where the author is \"Mike\":\n",
    "print(\" ------------ find_one 'author' is 'Mike' ------------\")\n",
    "pprint.pprint(collection.find_one({\"author\": \"Mike\"}))\n",
    "print()\n",
    "\n",
    "# query the tags contain mongodb\n",
    "print(\" ------------ find_one 'tags' contain 'mongodb' ------------\")\n",
    "pprint.pprint(collection.find_one({\"tags\": \"mongodb\"}))\n",
    "print()\n",
    "\n",
    "# query tags not contain python\n",
    "print(\" ------------ find_one 'tags' not contain 'python' ------------\")\n",
    "pprint.pprint(collection.find_one({\"tags\": {\"$ne\": \"python\"}}))\n",
    "print()\n",
    "\n",
    "\n",
    "# query with object_id \"_id\"\n",
    "# Note that an ObjectId is not the same as its string representation:\n",
    "post_id_as_str = str(post_id)\n",
    "print(\" ------------ find_one '_id' ------------\")\n",
    "pprint.pprint(collection.find_one({\"_id\": post_id}))\n",
    "print()"
   ]
  },
  {
   "cell_type": "code",
   "execution_count": 9,
   "metadata": {},
   "outputs": [
    {
     "data": {
      "text/plain": [
       "[ObjectId('67b19654185594fa22d29d77'),\n",
       " ObjectId('67b19654185594fa22d29d78'),\n",
       " ObjectId('67b19654185594fa22d29d79'),\n",
       " ObjectId('67b19654185594fa22d29d7a'),\n",
       " ObjectId('67b19654185594fa22d29d7b')]"
      ]
     },
     "execution_count": 9,
     "metadata": {},
     "output_type": "execute_result"
    }
   ],
   "source": [
    "# --------------------------------- 5. Bulk insert ---------------------------------\n",
    "# insert_many() method to insert multiple documents into a collection\n",
    "# plz generate 5 post instance \n",
    "posts = [\n",
    "    {\"author\": \"Mike\",\n",
    "     \"text\": \"Another post!\",\n",
    "     \"tags\": [\"bulk\", \"insert\"],\n",
    "     \"date\": datetime.datetime(2009, 11, 12, 11, 14)},\n",
    "\n",
    "    {\"author\": \"Eliot\",\n",
    "     \"title\": \"MongoDB is fun\",\n",
    "     \"text\": \"and pretty easy too!\",\n",
    "     \"date\": datetime.datetime(2009, 11, 10, 10, 45)},\n",
    "\n",
    "    {\"author\": \"Sarah\",\n",
    "     \"title\": \"Python and MongoDB\",\n",
    "     \"text\": \"A powerful combination for developers.\",\n",
    "     \"tags\": [\"python\", \"mongodb\", \"database\"],\n",
    "     \"date\": datetime.datetime(2010, 6, 24, 14, 30)},\n",
    "\n",
    "    {\"author\": \"David\",\n",
    "     \"title\": \"Scaling with NoSQL\",\n",
    "     \"text\": \"How to scale applications with MongoDB.\",\n",
    "     \"tags\": [\"nosql\", \"scalability\", \"mongodb\"],\n",
    "     \"date\": datetime.datetime(2018, 9, 3, 9, 20)},\n",
    "\n",
    "    {\"author\": \"Anna\",\n",
    "     \"title\": \"Indexing in MongoDB\",\n",
    "     \"text\": \"Understanding indexes and how they improve performance.\",\n",
    "     \"tags\": [\"performance\", \"indexing\", \"mongodb\"],\n",
    "     \"date\": datetime.datetime(2021, 2, 15, 16, 45)}\n",
    "]\n",
    "\n",
    "res = collection.insert_many(posts)\n",
    "# it returns an instance of \"InsertManyResult\" class.\n",
    "# The \"inserted_ids\" attribute is a list of _id values of the inserted documents\n",
    "res.inserted_ids"
   ]
  },
  {
   "cell_type": "code",
   "execution_count": 10,
   "metadata": {},
   "outputs": [
    {
     "name": "stdout",
     "output_type": "stream",
     "text": [
      " ------------ find all documents ------------\n",
      "{'_id': ObjectId('67b19653185594fa22d29d76'),\n",
      " 'author': 'Mike',\n",
      " 'date': datetime.datetime(2025, 2, 16, 7, 40, 3, 867000),\n",
      " 'tags': ['mongodb', 'python', 'pymongo'],\n",
      " 'text': 'My first blog post!'}\n",
      "{'_id': ObjectId('67b19654185594fa22d29d77'),\n",
      " 'author': 'Mike',\n",
      " 'date': datetime.datetime(2009, 11, 12, 11, 14),\n",
      " 'tags': ['bulk', 'insert'],\n",
      " 'text': 'Another post!'}\n",
      "{'_id': ObjectId('67b19654185594fa22d29d78'),\n",
      " 'author': 'Eliot',\n",
      " 'date': datetime.datetime(2009, 11, 10, 10, 45),\n",
      " 'text': 'and pretty easy too!',\n",
      " 'title': 'MongoDB is fun'}\n",
      "{'_id': ObjectId('67b19654185594fa22d29d79'),\n",
      " 'author': 'Sarah',\n",
      " 'date': datetime.datetime(2010, 6, 24, 14, 30),\n",
      " 'tags': ['python', 'mongodb', 'database'],\n",
      " 'text': 'A powerful combination for developers.',\n",
      " 'title': 'Python and MongoDB'}\n",
      "{'_id': ObjectId('67b19654185594fa22d29d7a'),\n",
      " 'author': 'David',\n",
      " 'date': datetime.datetime(2018, 9, 3, 9, 20),\n",
      " 'tags': ['nosql', 'scalability', 'mongodb'],\n",
      " 'text': 'How to scale applications with MongoDB.',\n",
      " 'title': 'Scaling with NoSQL'}\n",
      "{'_id': ObjectId('67b19654185594fa22d29d7b'),\n",
      " 'author': 'Anna',\n",
      " 'date': datetime.datetime(2021, 2, 15, 16, 45),\n",
      " 'tags': ['performance', 'indexing', 'mongodb'],\n",
      " 'text': 'Understanding indexes and how they improve performance.',\n",
      " 'title': 'Indexing in MongoDB'}\n"
     ]
    }
   ],
   "source": [
    "# --------------------------------- 6. Query for more than one document ---------------------------------\n",
    "# find() method returns a Cursor instance, which allows us to iterate over all matching documents.\n",
    "# The following operation finds all documents in the collection:\n",
    "\n",
    "print(\" ------------ find all documents ------------\")\n",
    "res = collection.find()\n",
    "for doc in res:\n",
    "    pprint.pprint(doc)"
   ]
  },
  {
   "cell_type": "code",
   "execution_count": 11,
   "metadata": {},
   "outputs": [
    {
     "name": "stdout",
     "output_type": "stream",
     "text": [
      "-------------- find with filter ------------\n",
      "{'_id': ObjectId('67b19653185594fa22d29d76'),\n",
      " 'author': 'Mike',\n",
      " 'date': datetime.datetime(2025, 2, 16, 7, 40, 3, 867000),\n",
      " 'tags': ['mongodb', 'python', 'pymongo'],\n",
      " 'text': 'My first blog post!'}\n",
      "{'_id': ObjectId('67b19654185594fa22d29d77'),\n",
      " 'author': 'Mike',\n",
      " 'date': datetime.datetime(2009, 11, 12, 11, 14),\n",
      " 'tags': ['bulk', 'insert'],\n",
      " 'text': 'Another post!'}\n"
     ]
    }
   ],
   "source": [
    "print(\"-------------- find with filter ------------\")\n",
    "# query with filter\n",
    "# find all documents where the author is \"Mike\"\n",
    "res = collection.find({\"author\": \"Mike\"})\n",
    "for doc in res:\n",
    "    pprint.pprint(doc)"
   ]
  },
  {
   "cell_type": "code",
   "execution_count": 12,
   "metadata": {},
   "outputs": [
    {
     "name": "stdout",
     "output_type": "stream",
     "text": [
      "-------------- count_documents() ------------\n",
      "total 6 documents\n",
      "total 2 documents\n"
     ]
    }
   ],
   "source": [
    "# --------------------------------- 7. Count the number of documents ---------------------------------\n",
    "# count_documents() method to count the number of documents matching a query.\n",
    "print(\"-------------- count_documents() ------------\")\n",
    "cnt = collection.count_documents({})\n",
    "print(f\"total {cnt} documents\")\n",
    "\n",
    "# count the number of documents where the author is \"Mike\"\n",
    "cnt = collection.count_documents({\"author\": \"Mike\"})\n",
    "print(f\"total {cnt} documents\")"
   ]
  },
  {
   "cell_type": "code",
   "execution_count": 13,
   "metadata": {},
   "outputs": [
    {
     "name": "stdout",
     "output_type": "stream",
     "text": [
      "{'_id': ObjectId('67b19654185594fa22d29d78'),\n",
      " 'author': 'Eliot',\n",
      " 'date': datetime.datetime(2009, 11, 10, 10, 45),\n",
      " 'text': 'and pretty easy too!',\n",
      " 'title': 'MongoDB is fun'}\n"
     ]
    }
   ],
   "source": [
    "# --------------------------------- 8. Range query ---------------------------------\n",
    "# MongoDB supports many different types of advanced queries \n",
    "# (#link:https://www.mongodb.com/docs/manual/reference/operator/)\n",
    "d = datetime.datetime(2009, 11, 12, 11, 14)\n",
    "\n",
    "\n",
    "# where we limit results to posts older than a certain date.\n",
    "# sort the results by author name\n",
    "query = {\n",
    "    \"date\": {\"$lt\": d}\n",
    "}\n",
    "for post in collection.find(query).sort(\"author\"):\n",
    "    pprint.pprint(post)"
   ]
  },
  {
   "cell_type": "code",
   "execution_count": 23,
   "metadata": {},
   "outputs": [
    {
     "name": "stdout",
     "output_type": "stream",
     "text": [
      "collection profiles already exists\n",
      "\n",
      "-------------- create index ------------\n",
      "['_id_', 'user_id_1']\n",
      "\n",
      "-------------- insert some documents ------------\n",
      "[ObjectId('67b198dd185594fa22d29d8e'), ObjectId('67b198dd185594fa22d29d8f'), ObjectId('67b198dd185594fa22d29d90'), ObjectId('67b198dd185594fa22d29d91'), ObjectId('67b198dd185594fa22d29d92')]\n",
      "\n",
      "-------------- insert a duplicate document ------------\n",
      "insert failed: E11000 duplicate key error collection: test.profiles index: user_id_1 dup key: { user_id: 211 }, full error: {'index': 0, 'code': 11000, 'errmsg': 'E11000 duplicate key error collection: test.profiles index: user_id_1 dup key: { user_id: 211 }', 'keyPattern': {'user_id': 1}, 'keyValue': {'user_id': 211}}\n",
      "\n"
     ]
    }
   ],
   "source": [
    "# ---------------------------------- 9. Indexing ----------------------------------\n",
    "# Adding indexes can help accelerate certain queries and \n",
    "# can also add additional functionality to querying and storing documents\n",
    "\n",
    "# we create a unique index on a key that rejects documents \n",
    "# whose value for that key already exists in the index.\n",
    "collection = db['profiles']\n",
    "if 'profiles' in db.list_collection_names():\n",
    "    print(f'collection profiles already exists\\n')\n",
    "    # reset and initialize the collection\n",
    "    db.drop_collection('profiles')\n",
    "\n",
    "print(\"-------------- create index ------------\")\n",
    "res = db['profiles'].create_index([(\"user_id\", pymongo.ASCENDING)], unique = True)\n",
    "print(sorted(list(db['profiles'].index_information())), end='\\n\\n')\n",
    "\n",
    "# now we have two indexs now, one is \"_id\" which created automatically,\n",
    "# and the other is the index on 'user_id' we just created.\n",
    "\n",
    "print(\"-------------- insert some documents ------------\")\n",
    "user_profiles = [\n",
    "    {\"user_id\": 211, \"name\": \"Luke\"},\n",
    "    {\"user_id\": 212, \"name\": \"Ziltoid\"},\n",
    "    {\"user_id\": 213, \"name\": \"Daryl\"},\n",
    "    {\"user_id\": 214, \"name\": \"Anna\"},\n",
    "    {\"user_id\": 215, \"name\": \"David\"},\n",
    "]\n",
    "res = db['profiles'].insert_many(user_profiles)\n",
    "print(res.inserted_ids, end='\\n\\n')\n",
    "\n",
    "print(\"-------------- insert a duplicate document ------------\")\n",
    "\n",
    "duplicated_profile = {\"user_id\": 211, \"name\": \"Tom\"}\n",
    "\n",
    "try:\n",
    "    res = db['profiles'].insert_one(duplicated_profile)\n",
    "except pymongo.errors.DuplicateKeyError as e:\n",
    "    print(f\"insert failed: {e}\", end='\\n\\n')\n",
    "    "
   ]
  },
  {
   "cell_type": "code",
   "execution_count": 29,
   "metadata": {},
   "outputs": [
    {
     "name": "stdout",
     "output_type": "stream",
     "text": [
      "-------------- aggregation ------------\n",
      "{'_id': None, 'tags': 5}\n"
     ]
    }
   ],
   "source": [
    "# ---------------------------------- 10. Aggregation ----------------------------------\n",
    "# Aggregation operations process data records and return computed results.\n",
    "\n",
    "# this is a example to get the number of tags in posts which are created by \"Mike\"\n",
    "print(\"-------------- aggregation ------------\")\n",
    "pipeline = [\n",
    "    {\"$match\": {\"author\": \"Mike\"}},\n",
    "    {\"$project\": {\"tags\": 1}},\n",
    "    {\"$unwind\": \"$tags\"},\n",
    "    {\"$group\": {\"_id\": \"$author\", \"tags\": {\"$sum\": 1}}}\n",
    "]\n",
    "res = collection.aggregate(pipeline)\n",
    "for doc in res:\n",
    "    pprint.pprint(doc)"
   ]
  }
 ],
 "metadata": {
  "kernelspec": {
   "display_name": "cs4221",
   "language": "python",
   "name": "python3"
  },
  "language_info": {
   "codemirror_mode": {
    "name": "ipython",
    "version": 3
   },
   "file_extension": ".py",
   "mimetype": "text/x-python",
   "name": "python",
   "nbconvert_exporter": "python",
   "pygments_lexer": "ipython3",
   "version": "3.9.21"
  }
 },
 "nbformat": 4,
 "nbformat_minor": 2
}
