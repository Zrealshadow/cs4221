{
 "cells": [
  {
   "cell_type": "code",
   "execution_count": 1,
   "metadata": {},
   "outputs": [],
   "source": [
    "# through tuning the parameter sof index, we can get different vectorDB retrival performance\n",
    "# we select two basic index as the object, IVF, and HNSW.\n",
    "\n",
    "# we use the dataset\n",
    "# - Glove-25-angular, dimension 25 train set 1,183,514 test set 10,000\n",
    "# download ref: http://ann-benchmarks.com/glove-25-angular.hdf5\n",
    "\n",
    "import time\n",
    "import h5py\n",
    "import numpy as np\n",
    "from pymilvus import MilvusClient, DataType"
   ]
  },
  {
   "cell_type": "code",
   "execution_count": 2,
   "metadata": {},
   "outputs": [],
   "source": [
    "fmt = \"\\n=== {:30} ===\\n\"\n",
    "search_latency_fmt = \"search latency = {:.4f}s\""
   ]
  },
  {
   "cell_type": "code",
   "execution_count": 3,
   "metadata": {},
   "outputs": [],
   "source": [
    "f = h5py.File(\"./glove-25-angular.hdf5\", \"r\")\n",
    "num_entities, dim = f['train'].shape\n",
    "distance = f.attrs['distance']"
   ]
  },
  {
   "cell_type": "code",
   "execution_count": 4,
   "metadata": {},
   "outputs": [
    {
     "name": "stderr",
     "output_type": "stream",
     "text": [
      "2025-02-13 06:51:56,861 [ERROR][_create_connection]: Failed to create new connection using: 6c68e7cdc5be4b74ba7091fc7d994593 (milvus_client.py:849)\n"
     ]
    },
    {
     "ename": "MilvusException",
     "evalue": "<MilvusException: (code=2, message=Fail connecting to server on 10.10.10.247:19530, illegal connection params or server unavailable)>",
     "output_type": "error",
     "traceback": [
      "\u001b[0;31m---------------------------------------------------------------------------\u001b[0m",
      "\u001b[0;31mMilvusException\u001b[0m                           Traceback (most recent call last)",
      "    \u001b[0;31m[... skipping hidden 1 frame]\u001b[0m\n",
      "Cell \u001b[0;32mIn[4], line 8\u001b[0m\n\u001b[1;32m      6\u001b[0m \u001b[38;5;66;03m# if you deployed the standalone milvus, and connect to the database server\u001b[39;00m\n\u001b[1;32m      7\u001b[0m \u001b[38;5;66;03m# if you deployed in your local machine, use \"http://localhost:19530\"\u001b[39;00m\n\u001b[0;32m----> 8\u001b[0m client \u001b[38;5;241m=\u001b[39m \u001b[43mMilvusClient\u001b[49m\u001b[43m(\u001b[49m\u001b[38;5;124;43m\"\u001b[39;49m\u001b[38;5;124;43mhttp://10.10.10.247:19530\u001b[39;49m\u001b[38;5;124;43m\"\u001b[39;49m\u001b[43m)\u001b[49m\n\u001b[1;32m     10\u001b[0m \u001b[38;5;28;01mif\u001b[39;00m DB_NAME \u001b[38;5;129;01mnot\u001b[39;00m \u001b[38;5;129;01min\u001b[39;00m client\u001b[38;5;241m.\u001b[39mlist_databases():\n",
      "File \u001b[0;32m~/anaconda3/envs/cs4221/lib/python3.9/site-packages/pymilvus/milvus_client/milvus_client.py:64\u001b[0m, in \u001b[0;36mMilvusClient.__init__\u001b[0;34m(self, uri, user, password, db_name, token, timeout, **kwargs)\u001b[0m\n\u001b[1;32m     52\u001b[0m \u001b[38;5;250m\u001b[39m\u001b[38;5;124;03m\"\"\"A client for the common Milvus use case.\u001b[39;00m\n\u001b[1;32m     53\u001b[0m \n\u001b[1;32m     54\u001b[0m \u001b[38;5;124;03mThis client attempts to hide away the complexity of using Pymilvus. In a lot ofcases what\u001b[39;00m\n\u001b[0;32m   (...)\u001b[0m\n\u001b[1;32m     62\u001b[0m \u001b[38;5;124;03m        to None.\u001b[39;00m\n\u001b[1;32m     63\u001b[0m \u001b[38;5;124;03m\"\"\"\u001b[39;00m\n\u001b[0;32m---> 64\u001b[0m \u001b[38;5;28mself\u001b[39m\u001b[38;5;241m.\u001b[39m_using \u001b[38;5;241m=\u001b[39m \u001b[38;5;28;43mself\u001b[39;49m\u001b[38;5;241;43m.\u001b[39;49m\u001b[43m_create_connection\u001b[49m\u001b[43m(\u001b[49m\n\u001b[1;32m     65\u001b[0m \u001b[43m    \u001b[49m\u001b[43muri\u001b[49m\u001b[43m,\u001b[49m\u001b[43m \u001b[49m\u001b[43muser\u001b[49m\u001b[43m,\u001b[49m\u001b[43m \u001b[49m\u001b[43mpassword\u001b[49m\u001b[43m,\u001b[49m\u001b[43m \u001b[49m\u001b[43mdb_name\u001b[49m\u001b[43m,\u001b[49m\u001b[43m \u001b[49m\u001b[43mtoken\u001b[49m\u001b[43m,\u001b[49m\u001b[43m \u001b[49m\u001b[43mtimeout\u001b[49m\u001b[38;5;241;43m=\u001b[39;49m\u001b[43mtimeout\u001b[49m\u001b[43m,\u001b[49m\u001b[43m \u001b[49m\u001b[38;5;241;43m*\u001b[39;49m\u001b[38;5;241;43m*\u001b[39;49m\u001b[43mkwargs\u001b[49m\n\u001b[1;32m     66\u001b[0m \u001b[43m\u001b[49m\u001b[43m)\u001b[49m\n\u001b[1;32m     67\u001b[0m \u001b[38;5;28mself\u001b[39m\u001b[38;5;241m.\u001b[39mis_self_hosted \u001b[38;5;241m=\u001b[39m \u001b[38;5;28mbool\u001b[39m(utility\u001b[38;5;241m.\u001b[39mget_server_type(using\u001b[38;5;241m=\u001b[39m\u001b[38;5;28mself\u001b[39m\u001b[38;5;241m.\u001b[39m_using) \u001b[38;5;241m==\u001b[39m \u001b[38;5;124m\"\u001b[39m\u001b[38;5;124mmilvus\u001b[39m\u001b[38;5;124m\"\u001b[39m)\n",
      "File \u001b[0;32m~/anaconda3/envs/cs4221/lib/python3.9/site-packages/pymilvus/milvus_client/milvus_client.py:850\u001b[0m, in \u001b[0;36mMilvusClient._create_connection\u001b[0;34m(self, uri, user, password, db_name, token, **kwargs)\u001b[0m\n\u001b[1;32m    849\u001b[0m     logger\u001b[38;5;241m.\u001b[39merror(\u001b[38;5;124m\"\u001b[39m\u001b[38;5;124mFailed to create new connection using: \u001b[39m\u001b[38;5;132;01m%s\u001b[39;00m\u001b[38;5;124m\"\u001b[39m, using)\n\u001b[0;32m--> 850\u001b[0m     \u001b[38;5;28;01mraise\u001b[39;00m ex \u001b[38;5;28;01mfrom\u001b[39;00m \u001b[38;5;21;01mex\u001b[39;00m\n\u001b[1;32m    851\u001b[0m \u001b[38;5;28;01melse\u001b[39;00m:\n",
      "File \u001b[0;32m~/anaconda3/envs/cs4221/lib/python3.9/site-packages/pymilvus/milvus_client/milvus_client.py:847\u001b[0m, in \u001b[0;36mMilvusClient._create_connection\u001b[0;34m(self, uri, user, password, db_name, token, **kwargs)\u001b[0m\n\u001b[1;32m    846\u001b[0m \u001b[38;5;28;01mtry\u001b[39;00m:\n\u001b[0;32m--> 847\u001b[0m     \u001b[43mconnections\u001b[49m\u001b[38;5;241;43m.\u001b[39;49m\u001b[43mconnect\u001b[49m\u001b[43m(\u001b[49m\u001b[43musing\u001b[49m\u001b[43m,\u001b[49m\u001b[43m \u001b[49m\u001b[43muser\u001b[49m\u001b[43m,\u001b[49m\u001b[43m \u001b[49m\u001b[43mpassword\u001b[49m\u001b[43m,\u001b[49m\u001b[43m \u001b[49m\u001b[43mdb_name\u001b[49m\u001b[43m,\u001b[49m\u001b[43m \u001b[49m\u001b[43mtoken\u001b[49m\u001b[43m,\u001b[49m\u001b[43m \u001b[49m\u001b[43muri\u001b[49m\u001b[38;5;241;43m=\u001b[39;49m\u001b[43muri\u001b[49m\u001b[43m,\u001b[49m\u001b[43m \u001b[49m\u001b[38;5;241;43m*\u001b[39;49m\u001b[38;5;241;43m*\u001b[39;49m\u001b[43mkwargs\u001b[49m\u001b[43m)\u001b[49m\n\u001b[1;32m    848\u001b[0m \u001b[38;5;28;01mexcept\u001b[39;00m \u001b[38;5;167;01mException\u001b[39;00m \u001b[38;5;28;01mas\u001b[39;00m ex:\n",
      "File \u001b[0;32m~/anaconda3/envs/cs4221/lib/python3.9/site-packages/pymilvus/orm/connections.py:461\u001b[0m, in \u001b[0;36mConnections.connect\u001b[0;34m(self, alias, user, password, db_name, token, _async, **kwargs)\u001b[0m\n\u001b[1;32m    459\u001b[0m         kwargs[\u001b[38;5;124m\"\u001b[39m\u001b[38;5;124msecure\u001b[39m\u001b[38;5;124m\"\u001b[39m] \u001b[38;5;241m=\u001b[39m \u001b[38;5;28;01mTrue\u001b[39;00m\n\u001b[0;32m--> 461\u001b[0m \u001b[43mconnect_milvus\u001b[49m\u001b[43m(\u001b[49m\u001b[38;5;241;43m*\u001b[39;49m\u001b[38;5;241;43m*\u001b[39;49m\u001b[43mkwargs\u001b[49m\u001b[43m,\u001b[49m\u001b[43m \u001b[49m\u001b[43muser\u001b[49m\u001b[38;5;241;43m=\u001b[39;49m\u001b[43muser\u001b[49m\u001b[43m,\u001b[49m\u001b[43m \u001b[49m\u001b[43mpassword\u001b[49m\u001b[38;5;241;43m=\u001b[39;49m\u001b[43mpassword\u001b[49m\u001b[43m,\u001b[49m\u001b[43m \u001b[49m\u001b[43mtoken\u001b[49m\u001b[38;5;241;43m=\u001b[39;49m\u001b[43mtoken\u001b[49m\u001b[43m,\u001b[49m\u001b[43m \u001b[49m\u001b[43mdb_name\u001b[49m\u001b[38;5;241;43m=\u001b[39;49m\u001b[43mdb_name\u001b[49m\u001b[43m)\u001b[49m\n\u001b[1;32m    462\u001b[0m \u001b[38;5;28;01mreturn\u001b[39;00m\n",
      "File \u001b[0;32m~/anaconda3/envs/cs4221/lib/python3.9/site-packages/pymilvus/orm/connections.py:411\u001b[0m, in \u001b[0;36mConnections.connect.<locals>.connect_milvus\u001b[0;34m(**kwargs)\u001b[0m\n\u001b[1;32m    410\u001b[0m \u001b[38;5;28;01mif\u001b[39;00m \u001b[38;5;129;01mnot\u001b[39;00m _async:\n\u001b[0;32m--> 411\u001b[0m     \u001b[43mgh\u001b[49m\u001b[38;5;241;43m.\u001b[39;49m\u001b[43m_wait_for_channel_ready\u001b[49m\u001b[43m(\u001b[49m\u001b[43mtimeout\u001b[49m\u001b[38;5;241;43m=\u001b[39;49m\u001b[43mtimeout\u001b[49m\u001b[43m)\u001b[49m\n\u001b[1;32m    413\u001b[0m \u001b[38;5;28;01mif\u001b[39;00m kwargs\u001b[38;5;241m.\u001b[39mget(\u001b[38;5;124m\"\u001b[39m\u001b[38;5;124mkeep_alive\u001b[39m\u001b[38;5;124m\"\u001b[39m, \u001b[38;5;28;01mFalse\u001b[39;00m):\n",
      "File \u001b[0;32m~/anaconda3/envs/cs4221/lib/python3.9/site-packages/pymilvus/client/grpc_handler.py:152\u001b[0m, in \u001b[0;36mGrpcHandler._wait_for_channel_ready\u001b[0;34m(self, timeout)\u001b[0m\n\u001b[1;32m    151\u001b[0m \u001b[38;5;28;01mexcept\u001b[39;00m grpc\u001b[38;5;241m.\u001b[39mFutureTimeoutError \u001b[38;5;28;01mas\u001b[39;00m e:\n\u001b[0;32m--> 152\u001b[0m     \u001b[38;5;28;01mraise\u001b[39;00m MilvusException(\n\u001b[1;32m    153\u001b[0m         code\u001b[38;5;241m=\u001b[39mStatus\u001b[38;5;241m.\u001b[39mCONNECT_FAILED,\n\u001b[1;32m    154\u001b[0m         message\u001b[38;5;241m=\u001b[39m\u001b[38;5;124mf\u001b[39m\u001b[38;5;124m\"\u001b[39m\u001b[38;5;124mFail connecting to server on \u001b[39m\u001b[38;5;132;01m{\u001b[39;00m\u001b[38;5;28mself\u001b[39m\u001b[38;5;241m.\u001b[39m_address\u001b[38;5;132;01m}\u001b[39;00m\u001b[38;5;124m, illegal connection params or server unavailable\u001b[39m\u001b[38;5;124m\"\u001b[39m,\n\u001b[1;32m    155\u001b[0m     ) \u001b[38;5;28;01mfrom\u001b[39;00m \u001b[38;5;21;01me\u001b[39;00m\n\u001b[1;32m    156\u001b[0m \u001b[38;5;28;01mexcept\u001b[39;00m \u001b[38;5;167;01mException\u001b[39;00m \u001b[38;5;28;01mas\u001b[39;00m e:\n",
      "\u001b[0;31mMilvusException\u001b[0m: <MilvusException: (code=2, message=Fail connecting to server on 10.10.10.247:19530, illegal connection params or server unavailable)>",
      "\nThe above exception was the direct cause of the following exception:\n",
      "\u001b[0;31mMilvusException\u001b[0m                           Traceback (most recent call last)",
      "    \u001b[0;31m[... skipping hidden 1 frame]\u001b[0m\n",
      "Cell \u001b[0;32mIn[4], line 8\u001b[0m\n\u001b[1;32m      6\u001b[0m \u001b[38;5;66;03m# if you deployed the standalone milvus, and connect to the database server\u001b[39;00m\n\u001b[1;32m      7\u001b[0m \u001b[38;5;66;03m# if you deployed in your local machine, use \"http://localhost:19530\"\u001b[39;00m\n\u001b[0;32m----> 8\u001b[0m client \u001b[38;5;241m=\u001b[39m \u001b[43mMilvusClient\u001b[49m\u001b[43m(\u001b[49m\u001b[38;5;124;43m\"\u001b[39;49m\u001b[38;5;124;43mhttp://10.10.10.247:19530\u001b[39;49m\u001b[38;5;124;43m\"\u001b[39;49m\u001b[43m)\u001b[49m\n\u001b[1;32m     10\u001b[0m \u001b[38;5;28;01mif\u001b[39;00m DB_NAME \u001b[38;5;129;01mnot\u001b[39;00m \u001b[38;5;129;01min\u001b[39;00m client\u001b[38;5;241m.\u001b[39mlist_databases():\n",
      "File \u001b[0;32m~/anaconda3/envs/cs4221/lib/python3.9/site-packages/pymilvus/milvus_client/milvus_client.py:64\u001b[0m, in \u001b[0;36mMilvusClient.__init__\u001b[0;34m(self, uri, user, password, db_name, token, timeout, **kwargs)\u001b[0m\n\u001b[1;32m     52\u001b[0m \u001b[38;5;250m\u001b[39m\u001b[38;5;124;03m\"\"\"A client for the common Milvus use case.\u001b[39;00m\n\u001b[1;32m     53\u001b[0m \n\u001b[1;32m     54\u001b[0m \u001b[38;5;124;03mThis client attempts to hide away the complexity of using Pymilvus. In a lot ofcases what\u001b[39;00m\n\u001b[0;32m   (...)\u001b[0m\n\u001b[1;32m     62\u001b[0m \u001b[38;5;124;03m        to None.\u001b[39;00m\n\u001b[1;32m     63\u001b[0m \u001b[38;5;124;03m\"\"\"\u001b[39;00m\n\u001b[0;32m---> 64\u001b[0m \u001b[38;5;28mself\u001b[39m\u001b[38;5;241m.\u001b[39m_using \u001b[38;5;241m=\u001b[39m \u001b[38;5;28;43mself\u001b[39;49m\u001b[38;5;241;43m.\u001b[39;49m\u001b[43m_create_connection\u001b[49m\u001b[43m(\u001b[49m\n\u001b[1;32m     65\u001b[0m \u001b[43m    \u001b[49m\u001b[43muri\u001b[49m\u001b[43m,\u001b[49m\u001b[43m \u001b[49m\u001b[43muser\u001b[49m\u001b[43m,\u001b[49m\u001b[43m \u001b[49m\u001b[43mpassword\u001b[49m\u001b[43m,\u001b[49m\u001b[43m \u001b[49m\u001b[43mdb_name\u001b[49m\u001b[43m,\u001b[49m\u001b[43m \u001b[49m\u001b[43mtoken\u001b[49m\u001b[43m,\u001b[49m\u001b[43m \u001b[49m\u001b[43mtimeout\u001b[49m\u001b[38;5;241;43m=\u001b[39;49m\u001b[43mtimeout\u001b[49m\u001b[43m,\u001b[49m\u001b[43m \u001b[49m\u001b[38;5;241;43m*\u001b[39;49m\u001b[38;5;241;43m*\u001b[39;49m\u001b[43mkwargs\u001b[49m\n\u001b[1;32m     66\u001b[0m \u001b[43m\u001b[49m\u001b[43m)\u001b[49m\n\u001b[1;32m     67\u001b[0m \u001b[38;5;28mself\u001b[39m\u001b[38;5;241m.\u001b[39mis_self_hosted \u001b[38;5;241m=\u001b[39m \u001b[38;5;28mbool\u001b[39m(utility\u001b[38;5;241m.\u001b[39mget_server_type(using\u001b[38;5;241m=\u001b[39m\u001b[38;5;28mself\u001b[39m\u001b[38;5;241m.\u001b[39m_using) \u001b[38;5;241m==\u001b[39m \u001b[38;5;124m\"\u001b[39m\u001b[38;5;124mmilvus\u001b[39m\u001b[38;5;124m\"\u001b[39m)\n",
      "File \u001b[0;32m~/anaconda3/envs/cs4221/lib/python3.9/site-packages/pymilvus/milvus_client/milvus_client.py:850\u001b[0m, in \u001b[0;36mMilvusClient._create_connection\u001b[0;34m(self, uri, user, password, db_name, token, **kwargs)\u001b[0m\n\u001b[1;32m    849\u001b[0m     logger\u001b[38;5;241m.\u001b[39merror(\u001b[38;5;124m\"\u001b[39m\u001b[38;5;124mFailed to create new connection using: \u001b[39m\u001b[38;5;132;01m%s\u001b[39;00m\u001b[38;5;124m\"\u001b[39m, using)\n\u001b[0;32m--> 850\u001b[0m     \u001b[38;5;28;01mraise\u001b[39;00m ex \u001b[38;5;28;01mfrom\u001b[39;00m \u001b[38;5;21;01mex\u001b[39;00m\n\u001b[1;32m    851\u001b[0m \u001b[38;5;28;01melse\u001b[39;00m:\n",
      "File \u001b[0;32m~/anaconda3/envs/cs4221/lib/python3.9/site-packages/pymilvus/milvus_client/milvus_client.py:847\u001b[0m, in \u001b[0;36mMilvusClient._create_connection\u001b[0;34m(self, uri, user, password, db_name, token, **kwargs)\u001b[0m\n\u001b[1;32m    846\u001b[0m \u001b[38;5;28;01mtry\u001b[39;00m:\n\u001b[0;32m--> 847\u001b[0m     \u001b[43mconnections\u001b[49m\u001b[38;5;241;43m.\u001b[39;49m\u001b[43mconnect\u001b[49m\u001b[43m(\u001b[49m\u001b[43musing\u001b[49m\u001b[43m,\u001b[49m\u001b[43m \u001b[49m\u001b[43muser\u001b[49m\u001b[43m,\u001b[49m\u001b[43m \u001b[49m\u001b[43mpassword\u001b[49m\u001b[43m,\u001b[49m\u001b[43m \u001b[49m\u001b[43mdb_name\u001b[49m\u001b[43m,\u001b[49m\u001b[43m \u001b[49m\u001b[43mtoken\u001b[49m\u001b[43m,\u001b[49m\u001b[43m \u001b[49m\u001b[43muri\u001b[49m\u001b[38;5;241;43m=\u001b[39;49m\u001b[43muri\u001b[49m\u001b[43m,\u001b[49m\u001b[43m \u001b[49m\u001b[38;5;241;43m*\u001b[39;49m\u001b[38;5;241;43m*\u001b[39;49m\u001b[43mkwargs\u001b[49m\u001b[43m)\u001b[49m\n\u001b[1;32m    848\u001b[0m \u001b[38;5;28;01mexcept\u001b[39;00m \u001b[38;5;167;01mException\u001b[39;00m \u001b[38;5;28;01mas\u001b[39;00m ex:\n",
      "File \u001b[0;32m~/anaconda3/envs/cs4221/lib/python3.9/site-packages/pymilvus/orm/connections.py:461\u001b[0m, in \u001b[0;36mConnections.connect\u001b[0;34m(self, alias, user, password, db_name, token, _async, **kwargs)\u001b[0m\n\u001b[1;32m    459\u001b[0m         kwargs[\u001b[38;5;124m\"\u001b[39m\u001b[38;5;124msecure\u001b[39m\u001b[38;5;124m\"\u001b[39m] \u001b[38;5;241m=\u001b[39m \u001b[38;5;28;01mTrue\u001b[39;00m\n\u001b[0;32m--> 461\u001b[0m \u001b[43mconnect_milvus\u001b[49m\u001b[43m(\u001b[49m\u001b[38;5;241;43m*\u001b[39;49m\u001b[38;5;241;43m*\u001b[39;49m\u001b[43mkwargs\u001b[49m\u001b[43m,\u001b[49m\u001b[43m \u001b[49m\u001b[43muser\u001b[49m\u001b[38;5;241;43m=\u001b[39;49m\u001b[43muser\u001b[49m\u001b[43m,\u001b[49m\u001b[43m \u001b[49m\u001b[43mpassword\u001b[49m\u001b[38;5;241;43m=\u001b[39;49m\u001b[43mpassword\u001b[49m\u001b[43m,\u001b[49m\u001b[43m \u001b[49m\u001b[43mtoken\u001b[49m\u001b[38;5;241;43m=\u001b[39;49m\u001b[43mtoken\u001b[49m\u001b[43m,\u001b[49m\u001b[43m \u001b[49m\u001b[43mdb_name\u001b[49m\u001b[38;5;241;43m=\u001b[39;49m\u001b[43mdb_name\u001b[49m\u001b[43m)\u001b[49m\n\u001b[1;32m    462\u001b[0m \u001b[38;5;28;01mreturn\u001b[39;00m\n",
      "File \u001b[0;32m~/anaconda3/envs/cs4221/lib/python3.9/site-packages/pymilvus/orm/connections.py:411\u001b[0m, in \u001b[0;36mConnections.connect.<locals>.connect_milvus\u001b[0;34m(**kwargs)\u001b[0m\n\u001b[1;32m    410\u001b[0m \u001b[38;5;28;01mif\u001b[39;00m \u001b[38;5;129;01mnot\u001b[39;00m _async:\n\u001b[0;32m--> 411\u001b[0m     \u001b[43mgh\u001b[49m\u001b[38;5;241;43m.\u001b[39;49m\u001b[43m_wait_for_channel_ready\u001b[49m\u001b[43m(\u001b[49m\u001b[43mtimeout\u001b[49m\u001b[38;5;241;43m=\u001b[39;49m\u001b[43mtimeout\u001b[49m\u001b[43m)\u001b[49m\n\u001b[1;32m    413\u001b[0m \u001b[38;5;28;01mif\u001b[39;00m kwargs\u001b[38;5;241m.\u001b[39mget(\u001b[38;5;124m\"\u001b[39m\u001b[38;5;124mkeep_alive\u001b[39m\u001b[38;5;124m\"\u001b[39m, \u001b[38;5;28;01mFalse\u001b[39;00m):\n",
      "File \u001b[0;32m~/anaconda3/envs/cs4221/lib/python3.9/site-packages/pymilvus/client/grpc_handler.py:152\u001b[0m, in \u001b[0;36mGrpcHandler._wait_for_channel_ready\u001b[0;34m(self, timeout)\u001b[0m\n\u001b[1;32m    151\u001b[0m \u001b[38;5;28;01mexcept\u001b[39;00m grpc\u001b[38;5;241m.\u001b[39mFutureTimeoutError \u001b[38;5;28;01mas\u001b[39;00m e:\n\u001b[0;32m--> 152\u001b[0m     \u001b[38;5;28;01mraise\u001b[39;00m MilvusException(\n\u001b[1;32m    153\u001b[0m         code\u001b[38;5;241m=\u001b[39mStatus\u001b[38;5;241m.\u001b[39mCONNECT_FAILED,\n\u001b[1;32m    154\u001b[0m         message\u001b[38;5;241m=\u001b[39m\u001b[38;5;124mf\u001b[39m\u001b[38;5;124m\"\u001b[39m\u001b[38;5;124mFail connecting to server on \u001b[39m\u001b[38;5;132;01m{\u001b[39;00m\u001b[38;5;28mself\u001b[39m\u001b[38;5;241m.\u001b[39m_address\u001b[38;5;132;01m}\u001b[39;00m\u001b[38;5;124m, illegal connection params or server unavailable\u001b[39m\u001b[38;5;124m\"\u001b[39m,\n\u001b[1;32m    155\u001b[0m     ) \u001b[38;5;28;01mfrom\u001b[39;00m \u001b[38;5;21;01me\u001b[39;00m\n\u001b[1;32m    156\u001b[0m \u001b[38;5;28;01mexcept\u001b[39;00m \u001b[38;5;167;01mException\u001b[39;00m \u001b[38;5;28;01mas\u001b[39;00m e:\n",
      "\u001b[0;31mMilvusException\u001b[0m: <MilvusException: (code=2, message=Fail connecting to server on 10.10.10.247:19530, illegal connection params or server unavailable)>",
      "\nThe above exception was the direct cause of the following exception:\n",
      "\u001b[0;31mMilvusException\u001b[0m                           Traceback (most recent call last)",
      "Cell \u001b[0;32mIn[4], line 8\u001b[0m\n\u001b[1;32m      5\u001b[0m URL\u001b[38;5;241m=\u001b[39m\u001b[38;5;124m\"\u001b[39m\u001b[38;5;124mhttp://\u001b[39m\u001b[38;5;124m\"\u001b[39m\u001b[38;5;241m+\u001b[39mHOST\u001b[38;5;241m+\u001b[39m\u001b[38;5;124m'\u001b[39m\u001b[38;5;124m:\u001b[39m\u001b[38;5;124m'\u001b[39m\u001b[38;5;241m+\u001b[39m\u001b[38;5;28mstr\u001b[39m(PORT)\n\u001b[1;32m      6\u001b[0m \u001b[38;5;66;03m# if you deployed the standalone milvus, and connect to the database server\u001b[39;00m\n\u001b[1;32m      7\u001b[0m \u001b[38;5;66;03m# if you deployed in your local machine, use \"http://localhost:19530\"\u001b[39;00m\n\u001b[0;32m----> 8\u001b[0m client \u001b[38;5;241m=\u001b[39m \u001b[43mMilvusClient\u001b[49m\u001b[43m(\u001b[49m\u001b[38;5;124;43m\"\u001b[39;49m\u001b[38;5;124;43mhttp://10.10.10.247:19530\u001b[39;49m\u001b[38;5;124;43m\"\u001b[39;49m\u001b[43m)\u001b[49m\n\u001b[1;32m     10\u001b[0m \u001b[38;5;28;01mif\u001b[39;00m DB_NAME \u001b[38;5;129;01mnot\u001b[39;00m \u001b[38;5;129;01min\u001b[39;00m client\u001b[38;5;241m.\u001b[39mlist_databases():\n\u001b[1;32m     11\u001b[0m     client\u001b[38;5;241m.\u001b[39mcreate_database(DB_NAME)\n",
      "File \u001b[0;32m~/anaconda3/envs/cs4221/lib/python3.9/site-packages/pymilvus/milvus_client/milvus_client.py:64\u001b[0m, in \u001b[0;36mMilvusClient.__init__\u001b[0;34m(self, uri, user, password, db_name, token, timeout, **kwargs)\u001b[0m\n\u001b[1;32m     42\u001b[0m \u001b[38;5;28;01mdef\u001b[39;00m \u001b[38;5;21m__init__\u001b[39m(\n\u001b[1;32m     43\u001b[0m     \u001b[38;5;28mself\u001b[39m,\n\u001b[1;32m     44\u001b[0m     uri: \u001b[38;5;28mstr\u001b[39m \u001b[38;5;241m=\u001b[39m \u001b[38;5;124m\"\u001b[39m\u001b[38;5;124mhttp://localhost:19530\u001b[39m\u001b[38;5;124m\"\u001b[39m,\n\u001b[0;32m   (...)\u001b[0m\n\u001b[1;32m     50\u001b[0m     \u001b[38;5;241m*\u001b[39m\u001b[38;5;241m*\u001b[39mkwargs,\n\u001b[1;32m     51\u001b[0m ) \u001b[38;5;241m-\u001b[39m\u001b[38;5;241m>\u001b[39m \u001b[38;5;28;01mNone\u001b[39;00m:\n\u001b[1;32m     52\u001b[0m \u001b[38;5;250m    \u001b[39m\u001b[38;5;124;03m\"\"\"A client for the common Milvus use case.\u001b[39;00m\n\u001b[1;32m     53\u001b[0m \n\u001b[1;32m     54\u001b[0m \u001b[38;5;124;03m    This client attempts to hide away the complexity of using Pymilvus. In a lot ofcases what\u001b[39;00m\n\u001b[0;32m   (...)\u001b[0m\n\u001b[1;32m     62\u001b[0m \u001b[38;5;124;03m            to None.\u001b[39;00m\n\u001b[1;32m     63\u001b[0m \u001b[38;5;124;03m    \"\"\"\u001b[39;00m\n\u001b[0;32m---> 64\u001b[0m     \u001b[38;5;28mself\u001b[39m\u001b[38;5;241m.\u001b[39m_using \u001b[38;5;241m=\u001b[39m \u001b[38;5;28;43mself\u001b[39;49m\u001b[38;5;241;43m.\u001b[39;49m\u001b[43m_create_connection\u001b[49m\u001b[43m(\u001b[49m\n\u001b[1;32m     65\u001b[0m \u001b[43m        \u001b[49m\u001b[43muri\u001b[49m\u001b[43m,\u001b[49m\u001b[43m \u001b[49m\u001b[43muser\u001b[49m\u001b[43m,\u001b[49m\u001b[43m \u001b[49m\u001b[43mpassword\u001b[49m\u001b[43m,\u001b[49m\u001b[43m \u001b[49m\u001b[43mdb_name\u001b[49m\u001b[43m,\u001b[49m\u001b[43m \u001b[49m\u001b[43mtoken\u001b[49m\u001b[43m,\u001b[49m\u001b[43m \u001b[49m\u001b[43mtimeout\u001b[49m\u001b[38;5;241;43m=\u001b[39;49m\u001b[43mtimeout\u001b[49m\u001b[43m,\u001b[49m\u001b[43m \u001b[49m\u001b[38;5;241;43m*\u001b[39;49m\u001b[38;5;241;43m*\u001b[39;49m\u001b[43mkwargs\u001b[49m\n\u001b[1;32m     66\u001b[0m \u001b[43m    \u001b[49m\u001b[43m)\u001b[49m\n\u001b[1;32m     67\u001b[0m     \u001b[38;5;28mself\u001b[39m\u001b[38;5;241m.\u001b[39mis_self_hosted \u001b[38;5;241m=\u001b[39m \u001b[38;5;28mbool\u001b[39m(utility\u001b[38;5;241m.\u001b[39mget_server_type(using\u001b[38;5;241m=\u001b[39m\u001b[38;5;28mself\u001b[39m\u001b[38;5;241m.\u001b[39m_using) \u001b[38;5;241m==\u001b[39m \u001b[38;5;124m\"\u001b[39m\u001b[38;5;124mmilvus\u001b[39m\u001b[38;5;124m\"\u001b[39m)\n",
      "File \u001b[0;32m~/anaconda3/envs/cs4221/lib/python3.9/site-packages/pymilvus/milvus_client/milvus_client.py:850\u001b[0m, in \u001b[0;36mMilvusClient._create_connection\u001b[0;34m(self, uri, user, password, db_name, token, **kwargs)\u001b[0m\n\u001b[1;32m    848\u001b[0m \u001b[38;5;28;01mexcept\u001b[39;00m \u001b[38;5;167;01mException\u001b[39;00m \u001b[38;5;28;01mas\u001b[39;00m ex:\n\u001b[1;32m    849\u001b[0m     logger\u001b[38;5;241m.\u001b[39merror(\u001b[38;5;124m\"\u001b[39m\u001b[38;5;124mFailed to create new connection using: \u001b[39m\u001b[38;5;132;01m%s\u001b[39;00m\u001b[38;5;124m\"\u001b[39m, using)\n\u001b[0;32m--> 850\u001b[0m     \u001b[38;5;28;01mraise\u001b[39;00m ex \u001b[38;5;28;01mfrom\u001b[39;00m \u001b[38;5;21;01mex\u001b[39;00m\n\u001b[1;32m    851\u001b[0m \u001b[38;5;28;01melse\u001b[39;00m:\n\u001b[1;32m    852\u001b[0m     logger\u001b[38;5;241m.\u001b[39mdebug(\u001b[38;5;124m\"\u001b[39m\u001b[38;5;124mCreated new connection using: \u001b[39m\u001b[38;5;132;01m%s\u001b[39;00m\u001b[38;5;124m\"\u001b[39m, using)\n",
      "File \u001b[0;32m~/anaconda3/envs/cs4221/lib/python3.9/site-packages/pymilvus/milvus_client/milvus_client.py:847\u001b[0m, in \u001b[0;36mMilvusClient._create_connection\u001b[0;34m(self, uri, user, password, db_name, token, **kwargs)\u001b[0m\n\u001b[1;32m    845\u001b[0m using \u001b[38;5;241m=\u001b[39m uuid4()\u001b[38;5;241m.\u001b[39mhex\n\u001b[1;32m    846\u001b[0m \u001b[38;5;28;01mtry\u001b[39;00m:\n\u001b[0;32m--> 847\u001b[0m     \u001b[43mconnections\u001b[49m\u001b[38;5;241;43m.\u001b[39;49m\u001b[43mconnect\u001b[49m\u001b[43m(\u001b[49m\u001b[43musing\u001b[49m\u001b[43m,\u001b[49m\u001b[43m \u001b[49m\u001b[43muser\u001b[49m\u001b[43m,\u001b[49m\u001b[43m \u001b[49m\u001b[43mpassword\u001b[49m\u001b[43m,\u001b[49m\u001b[43m \u001b[49m\u001b[43mdb_name\u001b[49m\u001b[43m,\u001b[49m\u001b[43m \u001b[49m\u001b[43mtoken\u001b[49m\u001b[43m,\u001b[49m\u001b[43m \u001b[49m\u001b[43muri\u001b[49m\u001b[38;5;241;43m=\u001b[39;49m\u001b[43muri\u001b[49m\u001b[43m,\u001b[49m\u001b[43m \u001b[49m\u001b[38;5;241;43m*\u001b[39;49m\u001b[38;5;241;43m*\u001b[39;49m\u001b[43mkwargs\u001b[49m\u001b[43m)\u001b[49m\n\u001b[1;32m    848\u001b[0m \u001b[38;5;28;01mexcept\u001b[39;00m \u001b[38;5;167;01mException\u001b[39;00m \u001b[38;5;28;01mas\u001b[39;00m ex:\n\u001b[1;32m    849\u001b[0m     logger\u001b[38;5;241m.\u001b[39merror(\u001b[38;5;124m\"\u001b[39m\u001b[38;5;124mFailed to create new connection using: \u001b[39m\u001b[38;5;132;01m%s\u001b[39;00m\u001b[38;5;124m\"\u001b[39m, using)\n",
      "File \u001b[0;32m~/anaconda3/envs/cs4221/lib/python3.9/site-packages/pymilvus/orm/connections.py:461\u001b[0m, in \u001b[0;36mConnections.connect\u001b[0;34m(self, alias, user, password, db_name, token, _async, **kwargs)\u001b[0m\n\u001b[1;32m    458\u001b[0m         \u001b[38;5;28;01mif\u001b[39;00m parsed_uri\u001b[38;5;241m.\u001b[39mscheme \u001b[38;5;241m==\u001b[39m \u001b[38;5;124m\"\u001b[39m\u001b[38;5;124mhttps\u001b[39m\u001b[38;5;124m\"\u001b[39m:\n\u001b[1;32m    459\u001b[0m             kwargs[\u001b[38;5;124m\"\u001b[39m\u001b[38;5;124msecure\u001b[39m\u001b[38;5;124m\"\u001b[39m] \u001b[38;5;241m=\u001b[39m \u001b[38;5;28;01mTrue\u001b[39;00m\n\u001b[0;32m--> 461\u001b[0m     \u001b[43mconnect_milvus\u001b[49m\u001b[43m(\u001b[49m\u001b[38;5;241;43m*\u001b[39;49m\u001b[38;5;241;43m*\u001b[39;49m\u001b[43mkwargs\u001b[49m\u001b[43m,\u001b[49m\u001b[43m \u001b[49m\u001b[43muser\u001b[49m\u001b[38;5;241;43m=\u001b[39;49m\u001b[43muser\u001b[49m\u001b[43m,\u001b[49m\u001b[43m \u001b[49m\u001b[43mpassword\u001b[49m\u001b[38;5;241;43m=\u001b[39;49m\u001b[43mpassword\u001b[49m\u001b[43m,\u001b[49m\u001b[43m \u001b[49m\u001b[43mtoken\u001b[49m\u001b[38;5;241;43m=\u001b[39;49m\u001b[43mtoken\u001b[49m\u001b[43m,\u001b[49m\u001b[43m \u001b[49m\u001b[43mdb_name\u001b[49m\u001b[38;5;241;43m=\u001b[39;49m\u001b[43mdb_name\u001b[49m\u001b[43m)\u001b[49m\n\u001b[1;32m    462\u001b[0m     \u001b[38;5;28;01mreturn\u001b[39;00m\n\u001b[1;32m    464\u001b[0m \u001b[38;5;66;03m# 2nd Priority, connection configs from env\u001b[39;00m\n",
      "File \u001b[0;32m~/anaconda3/envs/cs4221/lib/python3.9/site-packages/pymilvus/orm/connections.py:411\u001b[0m, in \u001b[0;36mConnections.connect.<locals>.connect_milvus\u001b[0;34m(**kwargs)\u001b[0m\n\u001b[1;32m    408\u001b[0m timeout \u001b[38;5;241m=\u001b[39m t \u001b[38;5;28;01mif\u001b[39;00m \u001b[38;5;28misinstance\u001b[39m(t, (\u001b[38;5;28mint\u001b[39m, \u001b[38;5;28mfloat\u001b[39m)) \u001b[38;5;28;01melse\u001b[39;00m Config\u001b[38;5;241m.\u001b[39mMILVUS_CONN_TIMEOUT\n\u001b[1;32m    410\u001b[0m \u001b[38;5;28;01mif\u001b[39;00m \u001b[38;5;129;01mnot\u001b[39;00m _async:\n\u001b[0;32m--> 411\u001b[0m     \u001b[43mgh\u001b[49m\u001b[38;5;241;43m.\u001b[39;49m\u001b[43m_wait_for_channel_ready\u001b[49m\u001b[43m(\u001b[49m\u001b[43mtimeout\u001b[49m\u001b[38;5;241;43m=\u001b[39;49m\u001b[43mtimeout\u001b[49m\u001b[43m)\u001b[49m\n\u001b[1;32m    413\u001b[0m \u001b[38;5;28;01mif\u001b[39;00m kwargs\u001b[38;5;241m.\u001b[39mget(\u001b[38;5;124m\"\u001b[39m\u001b[38;5;124mkeep_alive\u001b[39m\u001b[38;5;124m\"\u001b[39m, \u001b[38;5;28;01mFalse\u001b[39;00m):\n\u001b[1;32m    414\u001b[0m     gh\u001b[38;5;241m.\u001b[39mregister_state_change_callback(\n\u001b[1;32m    415\u001b[0m         ReconnectHandler(\u001b[38;5;28mself\u001b[39m, alias, kwargs_copy)\u001b[38;5;241m.\u001b[39mreconnect_on_idle\n\u001b[1;32m    416\u001b[0m     )\n",
      "File \u001b[0;32m~/anaconda3/envs/cs4221/lib/python3.9/site-packages/pymilvus/client/grpc_handler.py:152\u001b[0m, in \u001b[0;36mGrpcHandler._wait_for_channel_ready\u001b[0;34m(self, timeout)\u001b[0m\n\u001b[1;32m    150\u001b[0m     \u001b[38;5;28mself\u001b[39m\u001b[38;5;241m.\u001b[39m_setup_identifier_interceptor(\u001b[38;5;28mself\u001b[39m\u001b[38;5;241m.\u001b[39m_user, timeout\u001b[38;5;241m=\u001b[39mtimeout)\n\u001b[1;32m    151\u001b[0m \u001b[38;5;28;01mexcept\u001b[39;00m grpc\u001b[38;5;241m.\u001b[39mFutureTimeoutError \u001b[38;5;28;01mas\u001b[39;00m e:\n\u001b[0;32m--> 152\u001b[0m     \u001b[38;5;28;01mraise\u001b[39;00m MilvusException(\n\u001b[1;32m    153\u001b[0m         code\u001b[38;5;241m=\u001b[39mStatus\u001b[38;5;241m.\u001b[39mCONNECT_FAILED,\n\u001b[1;32m    154\u001b[0m         message\u001b[38;5;241m=\u001b[39m\u001b[38;5;124mf\u001b[39m\u001b[38;5;124m\"\u001b[39m\u001b[38;5;124mFail connecting to server on \u001b[39m\u001b[38;5;132;01m{\u001b[39;00m\u001b[38;5;28mself\u001b[39m\u001b[38;5;241m.\u001b[39m_address\u001b[38;5;132;01m}\u001b[39;00m\u001b[38;5;124m, illegal connection params or server unavailable\u001b[39m\u001b[38;5;124m\"\u001b[39m,\n\u001b[1;32m    155\u001b[0m     ) \u001b[38;5;28;01mfrom\u001b[39;00m \u001b[38;5;21;01me\u001b[39;00m\n\u001b[1;32m    156\u001b[0m \u001b[38;5;28;01mexcept\u001b[39;00m \u001b[38;5;167;01mException\u001b[39;00m \u001b[38;5;28;01mas\u001b[39;00m e:\n\u001b[1;32m    157\u001b[0m     \u001b[38;5;28;01mraise\u001b[39;00m e \u001b[38;5;28;01mfrom\u001b[39;00m \u001b[38;5;21;01me\u001b[39;00m\n",
      "\u001b[0;31mMilvusException\u001b[0m: <MilvusException: (code=2, message=Fail connecting to server on 10.10.10.247:19530, illegal connection params or server unavailable)>"
     ]
    }
   ],
   "source": [
    "# ------------------  1. Connect to Milvus Server \n",
    "HOST = '10.10.10.250'\n",
    "PORT = 19530\n",
    "DB_NAME = 'testdb'\n",
    "URL=\"http://\"+HOST+':'+str(PORT)\n",
    "# if you deployed the standalone milvus, and connect to the database server\n",
    "# if you deployed in your local machine, use \"http://localhost:19530\"\n",
    "client = MilvusClient(\"http://10.10.10.247:19530\")\n",
    "\n",
    "if DB_NAME not in client.list_databases():\n",
    "    client.create_database(DB_NAME)\n",
    "client.using_database(DB_NAME)\n",
    "client.list_databases()"
   ]
  },
  {
   "cell_type": "code",
   "execution_count": null,
   "metadata": {},
   "outputs": [],
   "source": [
    "# ------------------ 2. Create a collection with customized schema\n",
    "# we are going to create a collection with 2 fields\n",
    "# +-+------------+------------+------------------+------------------------------+\n",
    "# | | field name | field type | other attributes |       field description      |\n",
    "# +-+------------+------------+------------------+------------------------------+\n",
    "# |1|    \"pk\"    |   VarChar  |  is_primary=True |      \"primary field\"         |\n",
    "# +-+------------+------------+------------------+------------------------------+\n",
    "# |2|\"embeddings\"| FloatVector|     dim=dim     |\"float vector with specific dim\"|\n",
    "# +-+------------+------------+------------------+------------------------------+\n",
    "COLLECTION_NAME = \"glove_25_anugular\"\n",
    "schema = MilvusClient.create_schema(\n",
    "    auto_id = False,\n",
    "    enable_dynamic_field = True,\n",
    ")\n",
    "\n",
    "schema.add_field(field_name = 'pk', datatype=DataType.INT64, is_primary=True, auto_id = False)\n",
    "schema.add_field(field_name = 'embeddings', datatype=DataType.FLOAT_VECTOR, dim=dim)\n",
    "\n",
    "if client.has_collection(COLLECTION_NAME):\n",
    "    client.drop_collection(COLLECTION_NAME)\n",
    "res = client.create_collection(collection_name = COLLECTION_NAME, schema = schema)\n",
    "res"
   ]
  },
  {
   "cell_type": "code",
   "execution_count": null,
   "metadata": {},
   "outputs": [],
   "source": [
    "# ------------------ 3. Insert data into the collection\n",
    "data = [\n",
    "    {\"pk\":i[0], \"embeddings\":i[1]}\n",
    "    for i in zip(range(num_entities), f['train'][:])\n",
    "]"
   ]
  },
  {
   "cell_type": "code",
   "execution_count": null,
   "metadata": {},
   "outputs": [
    {
     "name": "stdout",
     "output_type": "stream",
     "text": [
      "inserted 100000/1183514, result = 100000\n",
      "inserted 200000/1183514, result = 100000\n",
      "inserted 300000/1183514, result = 100000\n",
      "inserted 400000/1183514, result = 100000\n",
      "inserted 500000/1183514, result = 100000\n",
      "inserted 600000/1183514, result = 100000\n",
      "inserted 700000/1183514, result = 100000\n",
      "inserted 800000/1183514, result = 100000\n",
      "inserted 900000/1183514, result = 100000\n",
      "inserted 1000000/1183514, result = 100000\n",
      "inserted 1100000/1183514, result = 100000\n",
      "inserted 1200000/1183514, result = 83514\n"
     ]
    }
   ],
   "source": [
    "batch_size = 100_000\n",
    "for batch in range(0, num_entities, batch_size):\n",
    "    res = client.insert(collection_name = COLLECTION_NAME, data = data[batch:batch+batch_size])\n",
    "    print(f\"inserted {batch+batch_size}/{num_entities}, result = {res['insert_count']}\")"
   ]
  },
  {
   "cell_type": "code",
   "execution_count": null,
   "metadata": {},
   "outputs": [
    {
     "data": {
      "text/plain": [
       "{'row_count': 1183514}"
      ]
     },
     "execution_count": 8,
     "metadata": {},
     "output_type": "execute_result"
    }
   ],
   "source": [
    "# flush and check the number of entities\n",
    "client.flush(collection_name=COLLECTION_NAME)\n",
    "client.get_collection_stats(COLLECTION_NAME)"
   ]
  },
  {
   "cell_type": "code",
   "execution_count": null,
   "metadata": {},
   "outputs": [],
   "source": [
    "# ------------------ 4[IVF_FLAT]. Create IVF_FLAT index\n",
    "# in this tutorial, we will deep into the index and tuning the parameters\n",
    "\n",
    "# IVF_FLAT - Inverted File FLAT Index\n",
    "# which aims to improve the search performance of the basic FLAT index \n",
    "# by implementing approximate nearest neighbors (ANNs) algorithm instead of the native KNN (FLAT). \n",
    "# recommend to read this blog: https://zilliz.com/learn/how-to-pick-a-vector-index-in-milvus-visual-guide\n",
    "\n",
    "# IVF-FLAT provides two hyperparameters we can tune:\n",
    "\n",
    "# - nlist: the number of partitions to create using the k-means algorithm. default-128\n",
    "# we determine the nlist when building the IVF-FLAT Index\n",
    "# generally, nlist impacts both indexing time and query performance.\n",
    "# adjuting nlist is relatively complex and expensive\n",
    "\n",
    "# - nprobe: the number of partitions to consider during the search for candidate\n",
    "# we can tune nprobe when executing each query request\n",
    "# generally, given a nlist, nprobe tuning is more intuitive and simple"
   ]
  },
  {
   "cell_type": "code",
   "execution_count": null,
   "metadata": {},
   "outputs": [
    {
     "name": "stdout",
     "output_type": "stream",
     "text": [
      "create index time: 17.5975s\n"
     ]
    }
   ],
   "source": [
    "# first, we fix nlist, tune nprobe to check the query performance (latency and recall)\n",
    "nlist = 1024\n",
    "index_params = MilvusClient.prepare_index_params()\n",
    "index_params.add_index(\n",
    "    field_name=\"embeddings\",\n",
    "    metric_type = \"COSINE\",\n",
    "    # related distance metric to angular is CONSINE\n",
    "    index_type = \"IVF_FLAT\",\n",
    "    index_name = \"vector_index\",\n",
    "    params = {\n",
    "        \"nlist\":nlist\n",
    "    }    \n",
    ")\n",
    "start_time = time.time()\n",
    "client.create_index(collection_name = COLLECTION_NAME, \n",
    "                   index_params = index_params,\n",
    "                   sync = True)\n",
    "end_time = time.time()\n",
    "print(f\"create index time: {end_time-start_time:.4f}s\")"
   ]
  },
  {
   "cell_type": "code",
   "execution_count": null,
   "metadata": {},
   "outputs": [
    {
     "name": "stdout",
     "output_type": "stream",
     "text": [
      "\n",
      "=== Load collection into memory    ===\n",
      "\n"
     ]
    }
   ],
   "source": [
    "client.load_collection(collection_name=COLLECTION_NAME)\n",
    "res = client.get_load_state(collection_name=COLLECTION_NAME)\n",
    "print(fmt.format(\"Load collection into memory\"))"
   ]
  },
  {
   "cell_type": "code",
   "execution_count": null,
   "metadata": {},
   "outputs": [],
   "source": [
    "# query_index\n",
    "neighbors_num = f['neighbors'].shape[1]\n",
    "neighbors = f['neighbors'][:]\n",
    "query_embedding = f['test'][:]"
   ]
  },
  {
   "cell_type": "code",
   "execution_count": null,
   "metadata": {},
   "outputs": [
    {
     "name": "stdout",
     "output_type": "stream",
     "text": [
      "\n",
      "=== ----------------- nprobe=1 search -------------------- ===\n",
      "\n",
      "search latency = 3.8174s\n",
      "Mean Average Recall = 0.3681\n",
      "\n",
      "=== ----------------- nprobe=16 search -------------------- ===\n",
      "\n",
      "search latency = 4.2593s\n",
      "Mean Average Recall = 0.8873\n",
      "\n",
      "=== ----------------- nprobe=64 search -------------------- ===\n",
      "\n",
      "search latency = 6.7913s\n",
      "Mean Average Recall = 0.9804\n",
      "\n",
      "=== ----------------- nprobe=256 search -------------------- ===\n",
      "\n",
      "search latency = 13.6901s\n",
      "Mean Average Recall = 0.9994\n",
      "\n",
      "=== ----------------- nprobe=1024 search -------------------- ===\n",
      "\n",
      "search latency = 43.0186s\n",
      "Mean Average Recall = 1.0000\n"
     ]
    }
   ],
   "source": [
    "# ------------------ 4[IVF_FLAT]. Search with different nprobe, check the performance\n",
    "for nprobe in [1,16, 64, 256, 1024]:\n",
    "    start_time = time.time()\n",
    "    res = client.search(\n",
    "        collection_name=COLLECTION_NAME,\n",
    "        data=query_embedding,\n",
    "        limit = 100,\n",
    "        search_params={\n",
    "            \"params\" : {\"nprobe\":nprobe}\n",
    "        }\n",
    "    )\n",
    "    end_time = time.time()\n",
    "    print(fmt.format(f\"----------------- nprobe={nprobe} search --------------------\"))\n",
    "    print(search_latency_fmt.format(end_time-start_time))\n",
    "    \n",
    "    # calculate the Mean Average Recall.\n",
    "    # Recall@K = (# of true positive in top K) / (# of true positive)\n",
    "    # MAR (Mean Average Recall) = 1/C * sum(Recall@K). C is the number of queries\n",
    "    mar_ = []\n",
    "    for i, candidate_res in enumerate(res):\n",
    "        y = neighbors[i]\n",
    "        y_ = [j['id'] for j in candidate_res]\n",
    "        y, y_ = set(y), set(y_)\n",
    "        mar_.append(1.0 * len(y & y_) / len(y))\n",
    "    mar = np.mean(mar_)\n",
    "    print(f\"Mean Average Recall = {mar:.4f}\")\n",
    "        "
   ]
  },
  {
   "cell_type": "code",
   "execution_count": null,
   "metadata": {},
   "outputs": [],
   "source": [
    "# from the result, we can easily find that\n",
    "# with the increase of nprobe, the search latency increase while the recall degrade\n",
    "# nprobe represents the number of partitions to consider during the search candidate\n",
    "# the value is in the range of [1, nlist].\n",
    "# When it is 1, only one partion is considered, which is the fastest but with loss of recall\n",
    "# When it is nlist, all partition is considered, equal to the FLAT index."
   ]
  },
  {
   "cell_type": "code",
   "execution_count": null,
   "metadata": {},
   "outputs": [],
   "source": [
    "# drop index and change nlist to 256 \n",
    "client.release_collection(\n",
    "    collection_name=COLLECTION_NAME\n",
    ")\n",
    "client.drop_index(\n",
    "    collection_name=COLLECTION_NAME,\n",
    "    index_name=\"vector_index\"\n",
    ")"
   ]
  },
  {
   "cell_type": "code",
   "execution_count": null,
   "metadata": {},
   "outputs": [
    {
     "name": "stdout",
     "output_type": "stream",
     "text": [
      "create index time: 3.5281s\n"
     ]
    }
   ],
   "source": [
    "# ------------------- 4[IVF_FLAT]. Create IVF_FLAG index with nlist=256\n",
    "nlist = 256\n",
    "index_params = MilvusClient.prepare_index_params()\n",
    "index_params.add_index(\n",
    "    field_name=\"embeddings\",\n",
    "    metric_type = \"COSINE\",\n",
    "    # related distance metric to angular is CONSINE\n",
    "    index_type = \"IVF_FLAT\",\n",
    "    index_name = \"vector_index\",\n",
    "    params = {\n",
    "        \"nlist\":nlist\n",
    "    }    \n",
    ")\n",
    "start_time = time.time()\n",
    "client.create_index(collection_name = COLLECTION_NAME, \n",
    "                   index_params = index_params,\n",
    "                   sync = True)\n",
    "end_time = time.time()\n",
    "print(f\"create index time: {end_time-start_time:.4f}s\")"
   ]
  },
  {
   "cell_type": "code",
   "execution_count": null,
   "metadata": {},
   "outputs": [
    {
     "name": "stdout",
     "output_type": "stream",
     "text": [
      "\n",
      "=== Load collection into memory    ===\n",
      "\n"
     ]
    }
   ],
   "source": [
    "# decrease the nlist, we spend less time on indexing building\n",
    "# load it into memory\n",
    "client.load_collection(collection_name=COLLECTION_NAME)\n",
    "res = client.get_load_state(collection_name=COLLECTION_NAME)\n",
    "print(fmt.format(\"Load collection into memory\"))"
   ]
  },
  {
   "cell_type": "code",
   "execution_count": null,
   "metadata": {},
   "outputs": [
    {
     "name": "stdout",
     "output_type": "stream",
     "text": [
      "\n",
      "=== ----------------- nprobe=1 search -------------------- ===\n",
      "\n",
      "search latency = 3.2711s\n",
      "Mean Average Recall = 0.4697\n",
      "\n",
      "=== ----------------- nprobe=16 search -------------------- ===\n",
      "\n",
      "search latency = 5.8951s\n",
      "Mean Average Recall = 0.9495\n",
      "\n",
      "=== ----------------- nprobe=64 search -------------------- ===\n",
      "\n",
      "search latency = 12.3161s\n",
      "Mean Average Recall = 0.9971\n",
      "\n",
      "=== ----------------- nprobe=256 search -------------------- ===\n",
      "\n",
      "search latency = 38.0888s\n",
      "Mean Average Recall = 1.0000\n"
     ]
    }
   ],
   "source": [
    "# ------------------- 4[IVF_FLAT]. Search with different nprobe, check the performance\n",
    "for nprobe in [1, 16, 64, 256]:\n",
    "    start_time = time.time()\n",
    "    res = client.search(\n",
    "        collection_name=COLLECTION_NAME,\n",
    "        data=query_embedding,\n",
    "        limit = 100,\n",
    "        search_params={\n",
    "            \"params\" : {\"nprobe\":nprobe}\n",
    "        }\n",
    "    )\n",
    "    end_time = time.time()\n",
    "    print(fmt.format(f\"----------------- nprobe={nprobe} search --------------------\"))\n",
    "    print(search_latency_fmt.format(end_time-start_time))\n",
    "    \n",
    "    # calculate the Mean Average Recall.\n",
    "    # Recall@K = (# of true positive in top K) / (# of true positive)\n",
    "    # MAR (Mean Average Recall) = 1/C * sum(Recall@K). C is the number of queries\n",
    "    mar_ = []\n",
    "    for i, candidate_res in enumerate(res):\n",
    "        y = neighbors[i]\n",
    "        y_ = [j['id'] for j in candidate_res]\n",
    "        y, y_ = set(y), set(y_)\n",
    "        mar_.append(1.0 * len(y & y_) / len(y))\n",
    "    mar = np.mean(mar_)\n",
    "    print(f\"Mean Average Recall = {mar:.4f}\")"
   ]
  },
  {
   "cell_type": "code",
   "execution_count": null,
   "metadata": {},
   "outputs": [],
   "source": [
    "# when nlist decrease, given the same nprobe, more candidates cause the mar increase.\n",
    "# basically, nlist is a probe to control the granularity of the search space.\n",
    "# also increasing nlist makes the index building process slow\n",
    "# generally, there are several situations to tune nlist:\n",
    "# - the dataset is large, the nlist should be large\n",
    "# - low recall during search, the nprobe is fixed, decrease nlist\n",
    "# - the search latency is high, the nprobe is fixed, increase nlist"
   ]
  },
  {
   "cell_type": "code",
   "execution_count": null,
   "metadata": {},
   "outputs": [],
   "source": [
    "# drop index \n",
    "client.release_collection(\n",
    "    collection_name=COLLECTION_NAME\n",
    ")\n",
    "client.drop_index(\n",
    "    collection_name=COLLECTION_NAME,\n",
    "    index_name=\"vector_index\"\n",
    ")"
   ]
  },
  {
   "cell_type": "code",
   "execution_count": null,
   "metadata": {},
   "outputs": [],
   "source": [
    "# ------------------- 5.[HNSW]. Create HNSW index\n",
    "\n",
    "# HNSW: Hierarchical Navigable Small World\n",
    "# algorithm detail refer to paper https://arxiv.org/pdf/1603.09320\n",
    "\n",
    "# HNSW provides three hyperparameters we can tune:\n",
    "\n",
    "# When building index:\n",
    "# - M: the maximum number of connections for each node in the graph. \n",
    "# Higher M makes the graph more connected, which increase memory suage and indexing building time.\n",
    "# but with higher search quality.\n",
    "\n",
    "# - efConstruction: the size of the dynamic cnadidate list which controls index seach speed/build speed tradeoff.\n",
    "# Higher efConstruction makes the index building slower but with higher search quality.\n",
    "\n",
    "# When searching:\n",
    "# - ef: the size of the dynamic candidate list during search.\n",
    "# Higher ef makes the search slower and memory usage higher but with higher search quality."
   ]
  },
  {
   "cell_type": "code",
   "execution_count": null,
   "metadata": {},
   "outputs": [
    {
     "name": "stdout",
     "output_type": "stream",
     "text": [
      "create index time: 89.4777s\n"
     ]
    }
   ],
   "source": [
    "M = 32\n",
    "ef_construct = 500\n",
    "\n",
    "index_params = MilvusClient.prepare_index_params()\n",
    "index_params.add_index(\n",
    "    field_name=\"embeddings\",\n",
    "    metric_type = \"COSINE\",\n",
    "    # related distance metric to angular is CONSINE\n",
    "    index_type = \"HNSW\",\n",
    "    index_name = \"vector_index\",\n",
    "    params = {\n",
    "        \"M\":M,\n",
    "        \"efConstruction\":ef_construct\n",
    "    }    \n",
    ")\n",
    "start_time = time.time()\n",
    "client.create_index(collection_name = COLLECTION_NAME, \n",
    "                   index_params = index_params,\n",
    "                   sync = True)\n",
    "end_time = time.time()\n",
    "print(f\"create index time: {end_time-start_time:.4f}s\")"
   ]
  },
  {
   "cell_type": "code",
   "execution_count": null,
   "metadata": {},
   "outputs": [
    {
     "name": "stdout",
     "output_type": "stream",
     "text": [
      "\n",
      "=== Load collection into memory    ===\n",
      "\n"
     ]
    }
   ],
   "source": [
    "client.load_collection(collection_name=COLLECTION_NAME)\n",
    "res = client.get_load_state(collection_name=COLLECTION_NAME)\n",
    "print(fmt.format(\"Load collection into memory\"))"
   ]
  },
  {
   "cell_type": "code",
   "execution_count": null,
   "metadata": {},
   "outputs": [
    {
     "name": "stdout",
     "output_type": "stream",
     "text": [
      "\n",
      "=== ----------------- ef=100 search -------------------- ===\n",
      "\n",
      "search latency = 4.0822s\n",
      "Mean Average Recall = 0.9758\n",
      "\n",
      "=== ----------------- ef=200 search -------------------- ===\n",
      "\n",
      "search latency = 4.2695s\n",
      "Mean Average Recall = 0.9949\n",
      "\n",
      "=== ----------------- ef=400 search -------------------- ===\n",
      "\n",
      "search latency = 5.1274s\n",
      "Mean Average Recall = 0.9993\n",
      "\n",
      "=== ----------------- ef=800 search -------------------- ===\n",
      "\n",
      "search latency = 7.0809s\n",
      "Mean Average Recall = 0.9999\n"
     ]
    }
   ],
   "source": [
    "# ------------------- 5.[HNSW]. Search with different ef, check the performance\n",
    "for ef in [100, 200, 400, 800]:\n",
    "    start_time = time.time()\n",
    "    res = client.search(\n",
    "        collection_name=COLLECTION_NAME,\n",
    "        data=query_embedding,\n",
    "        limit = 100,\n",
    "        search_params={\n",
    "            \"params\" : {\"ef\":ef}\n",
    "        }\n",
    "    )\n",
    "    end_time = time.time()\n",
    "    print(fmt.format(f\"----------------- ef={ef} search --------------------\"))\n",
    "    print(search_latency_fmt.format(end_time-start_time))\n",
    "    \n",
    "    # calculate the Mean Average Recall.\n",
    "    # Recall@K = (# of true positive in top K) / (# of true positive)\n",
    "    # MAR (Mean Average Recall) = 1/C * sum(Recall@K). C is the number of queries\n",
    "    mar_ = []\n",
    "    for i, candidate_res in enumerate(res):\n",
    "        y = neighbors[i]\n",
    "        y_ = [j['id'] for j in candidate_res]\n",
    "        y, y_ = set(y), set(y_)\n",
    "        mar_.append(1.0 * len(y & y_) / len(y))\n",
    "    mar = np.mean(mar_)\n",
    "    print(f\"Mean Average Recall = {mar:.4f}\")"
   ]
  },
  {
   "cell_type": "code",
   "execution_count": null,
   "metadata": {},
   "outputs": [],
   "source": [
    "# from the result, we can easily find that\n",
    "# with the increase of ef, the search latency increase while the recall degrade"
   ]
  },
  {
   "cell_type": "code",
   "execution_count": null,
   "metadata": {},
   "outputs": [],
   "source": [
    "# drop index \n",
    "client.release_collection(\n",
    "    collection_name=COLLECTION_NAME\n",
    ")\n",
    "client.drop_index(\n",
    "    collection_name=COLLECTION_NAME,\n",
    "    index_name=\"vector_index\"\n",
    ")"
   ]
  },
  {
   "cell_type": "code",
   "execution_count": null,
   "metadata": {},
   "outputs": [
    {
     "name": "stdout",
     "output_type": "stream",
     "text": [
      "create index time: 39.2173s\n"
     ]
    }
   ],
   "source": [
    "# ------------------- 5.[HNSW]. Create HNSW index - Decrease M\n",
    "M = 8\n",
    "ef_construct = 500\n",
    "\n",
    "index_params = MilvusClient.prepare_index_params()\n",
    "index_params.add_index(\n",
    "    field_name=\"embeddings\",\n",
    "    metric_type = \"COSINE\",\n",
    "    # related distance metric to angular is CONSINE\n",
    "    index_type = \"HNSW\",\n",
    "    index_name = \"vector_index\",\n",
    "    params = {\n",
    "        \"M\":M,\n",
    "        \"efConstruction\":ef_construct\n",
    "    }    \n",
    ")\n",
    "start_time = time.time()\n",
    "client.create_index(collection_name = COLLECTION_NAME, \n",
    "                   index_params = index_params,\n",
    "                   sync = True)\n",
    "end_time = time.time()\n",
    "print(f\"create index time: {end_time-start_time:.4f}s\")"
   ]
  },
  {
   "cell_type": "code",
   "execution_count": null,
   "metadata": {},
   "outputs": [],
   "source": [
    "# index building time decrease with the decrease of M.\n",
    "# index building time 89s -> 39s"
   ]
  },
  {
   "cell_type": "code",
   "execution_count": null,
   "metadata": {},
   "outputs": [
    {
     "name": "stdout",
     "output_type": "stream",
     "text": [
      "\n",
      "=== Load collection into memory    ===\n",
      "\n",
      "\n",
      "=== ----------------- ef=100 search -------------------- ===\n",
      "\n",
      "search latency = 3.1490s\n",
      "Mean Average Recall = 0.8430\n",
      "\n",
      "=== ----------------- ef=200 search -------------------- ===\n",
      "\n",
      "search latency = 4.0087s\n",
      "Mean Average Recall = 0.9208\n",
      "\n",
      "=== ----------------- ef=400 search -------------------- ===\n",
      "\n",
      "search latency = 4.1213s\n",
      "Mean Average Recall = 0.9674\n",
      "\n",
      "=== ----------------- ef=800 search -------------------- ===\n",
      "\n",
      "search latency = 5.3935s\n",
      "Mean Average Recall = 0.9891\n"
     ]
    }
   ],
   "source": [
    "client.load_collection(collection_name=COLLECTION_NAME)\n",
    "res = client.get_load_state(collection_name=COLLECTION_NAME)\n",
    "print(fmt.format(\"Load collection into memory\"))\n",
    "\n",
    "# ------------------- 5.[HNSW]. Search with different ef, check the performance\n",
    "for ef in [100, 200, 400, 800]:\n",
    "    start_time = time.time()\n",
    "    res = client.search(\n",
    "        collection_name=COLLECTION_NAME,\n",
    "        data=query_embedding,\n",
    "        limit = 100,\n",
    "        search_params={\n",
    "            \"params\" : {\"ef\":ef}\n",
    "        }\n",
    "    )\n",
    "    end_time = time.time()\n",
    "    print(fmt.format(f\"----------------- ef={ef} search --------------------\"))\n",
    "    print(search_latency_fmt.format(end_time-start_time))\n",
    "    \n",
    "    # calculate the Mean Average Recall.\n",
    "    # Recall@K = (# of true positive in top K) / (# of true positive)\n",
    "    # MAR (Mean Average Recall) = 1/C * sum(Recall@K). C is the number of queries\n",
    "    mar_ = []\n",
    "    for i, candidate_res in enumerate(res):\n",
    "        y = neighbors[i]\n",
    "        y_ = [j['id'] for j in candidate_res]\n",
    "        y, y_ = set(y), set(y_)\n",
    "        mar_.append(1.0 * len(y & y_) / len(y))\n",
    "    mar = np.mean(mar_)\n",
    "    print(f\"Mean Average Recall = {mar:.4f}\")"
   ]
  },
  {
   "cell_type": "code",
   "execution_count": null,
   "metadata": {},
   "outputs": [],
   "source": [
    "# given the ef and efConstruction, \n",
    "# decrease M makes the search quality decrease but speed up the search process"
   ]
  },
  {
   "cell_type": "code",
   "execution_count": null,
   "metadata": {},
   "outputs": [],
   "source": [
    "# drop index \n",
    "client.release_collection(\n",
    "    collection_name=COLLECTION_NAME\n",
    ")\n",
    "client.drop_index(\n",
    "    collection_name=COLLECTION_NAME,\n",
    "    index_name=\"vector_index\"\n",
    ")"
   ]
  },
  {
   "cell_type": "code",
   "execution_count": null,
   "metadata": {},
   "outputs": [
    {
     "name": "stdout",
     "output_type": "stream",
     "text": [
      "create index time: 22.1257s\n"
     ]
    }
   ],
   "source": [
    "# ------------------- 5.[HNSW]. Create HNSW index - Decrease efConstruction\n",
    "M = 32\n",
    "ef_construct = 100\n",
    "\n",
    "index_params = MilvusClient.prepare_index_params()\n",
    "index_params.add_index(\n",
    "    field_name=\"embeddings\",\n",
    "    metric_type = \"COSINE\",\n",
    "    # related distance metric to angular is CONSINE\n",
    "    index_type = \"HNSW\",\n",
    "    index_name = \"vector_index\",\n",
    "    params = {\n",
    "        \"M\":M,\n",
    "        \"efConstruction\":ef_construct\n",
    "    }    \n",
    ")\n",
    "start_time = time.time()\n",
    "client.create_index(collection_name = COLLECTION_NAME, \n",
    "                   index_params = index_params,\n",
    "                   sync = True)\n",
    "end_time = time.time()\n",
    "print(f\"create index time: {end_time-start_time:.4f}s\")"
   ]
  },
  {
   "cell_type": "code",
   "execution_count": null,
   "metadata": {},
   "outputs": [],
   "source": [
    "# index building time decrease with the decrease of efConstruction.\n",
    "# index building time 89s -> 22s"
   ]
  },
  {
   "cell_type": "code",
   "execution_count": null,
   "metadata": {},
   "outputs": [
    {
     "name": "stdout",
     "output_type": "stream",
     "text": [
      "\n",
      "=== Load collection into memory    ===\n",
      "\n",
      "\n",
      "=== ----------------- ef=100 search -------------------- ===\n",
      "\n",
      "search latency = 3.5012s\n",
      "Mean Average Recall = 0.9574\n",
      "\n",
      "=== ----------------- ef=200 search -------------------- ===\n",
      "\n",
      "search latency = 4.5053s\n",
      "Mean Average Recall = 0.9862\n",
      "\n",
      "=== ----------------- ef=400 search -------------------- ===\n",
      "\n",
      "search latency = 4.4190s\n",
      "Mean Average Recall = 0.9963\n",
      "\n",
      "=== ----------------- ef=800 search -------------------- ===\n",
      "\n",
      "search latency = 6.8445s\n",
      "Mean Average Recall = 0.9993\n"
     ]
    }
   ],
   "source": [
    "client.load_collection(collection_name=COLLECTION_NAME)\n",
    "res = client.get_load_state(collection_name=COLLECTION_NAME)\n",
    "print(fmt.format(\"Load collection into memory\"))\n",
    "\n",
    "# ------------------- 5.[HNSW]. Search with different ef, check the performance\n",
    "for ef in [100, 200, 400, 800]:\n",
    "    start_time = time.time()\n",
    "    res = client.search(\n",
    "        collection_name=COLLECTION_NAME,\n",
    "        data=query_embedding,\n",
    "        limit = 100,\n",
    "        search_params={\n",
    "            \"params\" : {\"ef\":ef}\n",
    "        }\n",
    "    )\n",
    "    end_time = time.time()\n",
    "    print(fmt.format(f\"----------------- ef={ef} search --------------------\"))\n",
    "    print(search_latency_fmt.format(end_time-start_time))\n",
    "    \n",
    "    # calculate the Mean Average Recall.\n",
    "    # Recall@K = (# of true positive in top K) / (# of true positive)\n",
    "    # MAR (Mean Average Recall) = 1/C * sum(Recall@K). C is the number of queries\n",
    "    mar_ = []\n",
    "    for i, candidate_res in enumerate(res):\n",
    "        y = neighbors[i]\n",
    "        y_ = [j['id'] for j in candidate_res]\n",
    "        y, y_ = set(y), set(y_)\n",
    "        mar_.append(1.0 * len(y & y_) / len(y))\n",
    "    mar = np.mean(mar_)\n",
    "    print(f\"Mean Average Recall = {mar:.4f}\")"
   ]
  },
  {
   "cell_type": "code",
   "execution_count": null,
   "metadata": {},
   "outputs": [],
   "source": [
    "# given the ef and M, \n",
    "# decrease efConstruction makes the search quality decrease but speed up the search process"
   ]
  },
  {
   "cell_type": "code",
   "execution_count": null,
   "metadata": {},
   "outputs": [],
   "source": []
  }
 ],
 "metadata": {
  "kernelspec": {
   "display_name": "milvus",
   "language": "python",
   "name": "python3"
  },
  "language_info": {
   "codemirror_mode": {
    "name": "ipython",
    "version": 3
   },
   "file_extension": ".py",
   "mimetype": "text/x-python",
   "name": "python",
   "nbconvert_exporter": "python",
   "pygments_lexer": "ipython3",
   "version": "3.9.21"
  }
 },
 "nbformat": 4,
 "nbformat_minor": 2
}
