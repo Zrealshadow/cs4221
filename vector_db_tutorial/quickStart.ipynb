{
 "cells": [
  {
   "cell_type": "code",
   "execution_count": 1,
   "metadata": {},
   "outputs": [],
   "source": [
    "# refer to \n",
    "from pymilvus import MilvusClient\n",
    "from pymilvus import model"
   ]
  },
  {
   "cell_type": "code",
   "execution_count": 2,
   "metadata": {},
   "outputs": [],
   "source": [
    "HOST = '10.10.10.247'\n",
    "PORT = 19530\n",
    "DB_NAME = 'testdb'\n",
    "URL=HOST+':'+str(PORT)\n",
    "# if you deployed the standalone milvus, and connect to the database server\n",
    "# if you deployed in your local machine, use \"http://localhost:19530\"\n",
    "client = MilvusClient(\"http://10.10.10.247:19530\")"
   ]
  },
  {
   "cell_type": "code",
   "execution_count": 3,
   "metadata": {},
   "outputs": [
    {
     "data": {
      "text/plain": [
       "['default', 'testdb']"
      ]
     },
     "execution_count": 3,
     "metadata": {},
     "output_type": "execute_result"
    }
   ],
   "source": [
    "# create a local milvus vector database\n",
    "# DB_FILE = './milvus_demo.db'\n",
    "# client = MilvusClient(DB_FILE)\n",
    "client.list_databases()"
   ]
  },
  {
   "cell_type": "code",
   "execution_count": 4,
   "metadata": {},
   "outputs": [
    {
     "data": {
      "text/plain": [
       "['default', 'testdb']"
      ]
     },
     "execution_count": 4,
     "metadata": {},
     "output_type": "execute_result"
    }
   ],
   "source": [
    "# create the database and shift to the database\n",
    "# otherwise, the default database \"default\" will be used\n",
    "if DB_NAME not in client.list_databases():\n",
    "    client.create_database(DB_NAME)\n",
    "client.using_database(DB_NAME)\n",
    "client.list_databases()"
   ]
  },
  {
   "cell_type": "code",
   "execution_count": 5,
   "metadata": {},
   "outputs": [],
   "source": [
    "# we use collection to store vectors and their associate metadata\n",
    "# when create a collection, we can define schema and index params to configure vector spaces such as dimensionality, index types and distant metrics\n",
    "# the details parameters can be found in https://milvus.io/api-reference/pymilvus/v2.5.x/MilvusClient/Collections/create_collection.md\n",
    "\n",
    "# in below setup, only basic function and parameters are focused.\n",
    "# the primary key and vector fields use their default names (\"id\" and \"vector\")\n",
    "# the primary key fields accepsts integer type and vector fields accepts float type\n",
    "# the metric type (vector distance definition) is set to its default value (\"COSINE\")\n",
    "\n",
    "COLLECTION_NAME = 'simple_demo_collection'\n",
    "if client.has_collection(COLLECTION_NAME):\n",
    "    client.drop_collection(COLLECTION_NAME)\n",
    "client.create_collection(\n",
    "    collection_name=COLLECTION_NAME,\n",
    "    dimension=768,\n",
    ")"
   ]
  },
  {
   "cell_type": "code",
   "execution_count": 6,
   "metadata": {},
   "outputs": [],
   "source": [
    "docs = [\n",
    "    \"Artificial intelligence was founded as an academic discipline in 1956.\",\n",
    "    \"Alan Turing was the first person to conduct substantial research in AI.\",\n",
    "    \"Born in Maida Vale, London, Turing was raised in southern England.\",\n",
    "]"
   ]
  },
  {
   "cell_type": "code",
   "execution_count": 7,
   "metadata": {},
   "outputs": [
    {
     "name": "stderr",
     "output_type": "stream",
     "text": [
      "/users/lingze/anaconda3/envs/milvus/lib/python3.9/site-packages/tqdm/auto.py:21: TqdmWarning: IProgress not found. Please update jupyter and ipywidgets. See https://ipywidgets.readthedocs.io/en/stable/user_install.html\n",
      "  from .autonotebook import tqdm as notebook_tqdm\n",
      "None of PyTorch, TensorFlow >= 2.0, or Flax have been found. Models won't be available and only tokenizers, configuration and file/data utilities can be used.\n"
     ]
    },
    {
     "name": "stdout",
     "output_type": "stream",
     "text": [
      "Dim: 768 (768,)\n",
      "Data has 3 entities, each with fields:  dict_keys(['id', 'vector', 'text', 'subject'])\n",
      "Vector dim: 768\n"
     ]
    }
   ],
   "source": [
    "# generate vectors for the documents\n",
    "# pre-requisite is to download pymilvus[model] first\n",
    "embedding_fn = model.DefaultEmbeddingFunction()\n",
    "vectors = embedding_fn.encode_documents(docs)\n",
    "print(\"Dim:\", embedding_fn.dim, vectors[0].shape)\n",
    "\n",
    "# Each record is named \"entity\"m entity has id, vector representation, raw text, and a subject label that we use to demo meta data.\n",
    "# the usage is similar to the NoSQL database like mongodb.\n",
    "data = [\n",
    "    {\"id\":i, \"vector\": vectors[i], \"text\": docs[i], \"subject\":\"history\"}\n",
    "    for i in range(len(docs))\n",
    "]\n",
    "\n",
    "print(\"Data has\", len(data), \"entities, each with fields: \", data[0].keys())\n",
    "print(\"Vector dim:\", len(data[0][\"vector\"]))"
   ]
  },
  {
   "cell_type": "code",
   "execution_count": 8,
   "metadata": {},
   "outputs": [
    {
     "name": "stdout",
     "output_type": "stream",
     "text": [
      "Data has 3 entities, each with fields:  dict_keys(['id', 'vector', 'text', 'subject'])\n",
      "Vector dim: 768\n"
     ]
    }
   ],
   "source": [
    "# if you couldn't downlaod the model module. \n",
    "# use random vectors to represent th text and finish the example.\n",
    "import random\n",
    "vectors = [[random.uniform(-1, 1) for _ in range(768)] for _ in docs]\n",
    "data = [\n",
    "    {\"id\": i, \"vector\": vectors[i], \"text\": docs[i], \"subject\": \"history\"}\n",
    "    for i in range(len(vectors))\n",
    "]\n",
    "\n",
    "print(\"Data has\", len(data), \"entities, each with fields: \", data[0].keys())\n",
    "print(\"Vector dim:\", len(data[0][\"vector\"]))"
   ]
  },
  {
   "cell_type": "code",
   "execution_count": 9,
   "metadata": {},
   "outputs": [
    {
     "name": "stdout",
     "output_type": "stream",
     "text": [
      "{'insert_count': 3, 'ids': [0, 1, 2]}\n"
     ]
    }
   ],
   "source": [
    "# insert into database\n",
    "res = client.insert(collection_name=COLLECTION_NAME, data = data)\n",
    "print(res)"
   ]
  },
  {
   "cell_type": "code",
   "execution_count": 10,
   "metadata": {},
   "outputs": [
    {
     "name": "stderr",
     "output_type": "stream",
     "text": [
      "huggingface/tokenizers: The current process just got forked, after parallelism has already been used. Disabling parallelism to avoid deadlocks...\n",
      "To disable this warning, you can either:\n",
      "\t- Avoid using `tokenizers` before the fork if possible\n",
      "\t- Explicitly set the environment variable TOKENIZERS_PARALLELISM=(true | false)\n"
     ]
    },
    {
     "data": {
      "text/plain": [
       "data: [\"[{'id': 0, 'distance': 0.0020332501735538244, 'entity': {'text': 'Artificial intelligence was founded as an academic discipline in 1956.', 'subject': 'history'}}, {'id': 2, 'distance': -0.0006970130489207804, 'entity': {'text': 'Born in Maida Vale, London, Turing was raised in southern England.', 'subject': 'history'}}]\"] "
      ]
     },
     "execution_count": 10,
     "metadata": {},
     "output_type": "execute_result"
    }
   ],
   "source": [
    "# ---------------- simply semantic vector search\n",
    "query_vectors = embedding_fn.encode_queries([\"Who is Alan Turing ?\"])\n",
    "res = client.search(\n",
    "    collection_name=COLLECTION_NAME,\n",
    "    data = query_vectors,\n",
    "    limit=2,\n",
    "    output_fields=[\"text\", \"subject\"],\n",
    ")\n",
    "res"
   ]
  },
  {
   "cell_type": "code",
   "execution_count": 11,
   "metadata": {},
   "outputs": [
    {
     "data": {
      "text/plain": [
       "{'insert_count': 3, 'ids': [3, 4, 5], 'cost': 0}"
      ]
     },
     "execution_count": 11,
     "metadata": {},
     "output_type": "execute_result"
    }
   ],
   "source": [
    "# -------------- vector search with Metadata filtering\n",
    "\n",
    "# conduct the vector search while considering the values of the metadata.\n",
    "\n",
    "\n",
    "# insert more docs in another subject\n",
    "docs = [\n",
    "    \"Machine learning has been used for drug design.\",\n",
    "    \"Computational synthesis with AI algorithms predicts molecular properties.\",\n",
    "    \"DDR1 is involved in cancers and fibrosis.\",\n",
    "]\n",
    "vectors = embedding_fn.encode_documents(docs)\n",
    "data = [\n",
    "    {\"id\": 3 + i, \"vector\": vectors[i], \"text\": docs[i], \"subject\": \"biology\"}\n",
    "    for i in range(len(vectors))\n",
    "]\n",
    "\n",
    "res = client.insert(collection_name=COLLECTION_NAME, data=data)\n",
    "res"
   ]
  },
  {
   "cell_type": "code",
   "execution_count": 12,
   "metadata": {},
   "outputs": [
    {
     "data": {
      "text/plain": [
       "data: ['[]'] "
      ]
     },
     "execution_count": 12,
     "metadata": {},
     "output_type": "execute_result"
    }
   ],
   "source": [
    "# semantic search with metadata filtering\n",
    "# filter expression details can be found https://milvus.io/docs/boolean.md\n",
    "res = client.search(\n",
    "    collection_name=COLLECTION_NAME,\n",
    "    data = embedding_fn.encode_queries([\"tell me AI related information\"]),\n",
    "    filter=\"subject == 'biology'\",\n",
    "    limit=2,\n",
    "    output_fields=[\"text\", \"subject\"],\n",
    ")\n",
    "res"
   ]
  },
  {
   "cell_type": "code",
   "execution_count": 13,
   "metadata": {},
   "outputs": [
    {
     "data": {
      "text/plain": [
       "data: [\"{'text': 'Artificial intelligence was founded as an academic discipline in 1956.', 'subject': 'history', 'id': 0}\", \"{'text': 'Alan Turing was the first person to conduct substantial research in AI.', 'subject': 'history', 'id': 1}\", \"{'text': 'Born in Maida Vale, London, Turing was raised in southern England.', 'subject': 'history', 'id': 2}\"] "
      ]
     },
     "execution_count": 13,
     "metadata": {},
     "output_type": "execute_result"
    }
   ],
   "source": [
    "# retrieve all entities whose scalar field has a particular value\n",
    "\n",
    "res = client.query(\n",
    "    collection_name=COLLECTION_NAME,\n",
    "    filter=\"subject == 'history'\",\n",
    "    output_fields=[\"text\", \"subject\"],\n",
    ")\n",
    "res"
   ]
  },
  {
   "cell_type": "code",
   "execution_count": 14,
   "metadata": {},
   "outputs": [
    {
     "data": {
      "text/plain": [
       "data: [\"{'text': 'Artificial intelligence was founded as an academic discipline in 1956.', 'subject': 'history', 'id': 0}\", \"{'text': 'Born in Maida Vale, London, Turing was raised in southern England.', 'subject': 'history', 'id': 2}\"] "
      ]
     },
     "execution_count": 14,
     "metadata": {},
     "output_type": "execute_result"
    }
   ],
   "source": [
    "# retrieve entity by primary key \"id\"\n",
    "res = client.query(\n",
    "    collection_name=COLLECTION_NAME,\n",
    "    ids = [0,2],\n",
    "    output_fields=[\"text\", \"subject\"],\n",
    ")\n",
    "res"
   ]
  },
  {
   "cell_type": "code",
   "execution_count": 15,
   "metadata": {},
   "outputs": [
    {
     "data": {
      "text/plain": [
       "{'delete_count': 2, 'cost': 0}"
      ]
     },
     "execution_count": 15,
     "metadata": {},
     "output_type": "execute_result"
    }
   ],
   "source": [
    "# ----------------- delete entities\n",
    "\n",
    "# delete by primary key \"id\"\n",
    "res = client.delete(\n",
    "    collection_name=COLLECTION_NAME,\n",
    "    ids = [0,2],\n",
    ")\n",
    "res"
   ]
  },
  {
   "cell_type": "code",
   "execution_count": 16,
   "metadata": {},
   "outputs": [
    {
     "data": {
      "text/plain": [
       "{'delete_count': 3, 'cost': 0}"
      ]
     },
     "execution_count": 16,
     "metadata": {},
     "output_type": "execute_result"
    }
   ],
   "source": [
    "# delete entities by the filter expression\n",
    "res = client.delete(\n",
    "    collection_name=COLLECTION_NAME,\n",
    "    filter=\"subject == 'history'\",\n",
    ")\n",
    "res"
   ]
  },
  {
   "cell_type": "code",
   "execution_count": 17,
   "metadata": {},
   "outputs": [
    {
     "data": {
      "text/plain": [
       "data: [\"{'text': 'Machine learning has been used for drug design.', 'subject': 'biology', 'id': 3}\", \"{'text': 'Computational synthesis with AI algorithms predicts molecular properties.', 'subject': 'biology', 'id': 4}\", \"{'text': 'DDR1 is involved in cancers and fibrosis.', 'subject': 'biology', 'id': 5}\"] "
      ]
     },
     "execution_count": 17,
     "metadata": {},
     "output_type": "execute_result"
    }
   ],
   "source": [
    "# check all entities\n",
    "res = client.query(\n",
    "    collection_name=COLLECTION_NAME,\n",
    "    limit=10,\n",
    "    output_fields=[\"text\", \"subject\"],\n",
    ")\n",
    "res"
   ]
  },
  {
   "cell_type": "code",
   "execution_count": null,
   "metadata": {},
   "outputs": [],
   "source": []
  }
 ],
 "metadata": {
  "kernelspec": {
   "display_name": "milvus",
   "language": "python",
   "name": "python3"
  },
  "language_info": {
   "codemirror_mode": {
    "name": "ipython",
    "version": 3
   },
   "file_extension": ".py",
   "mimetype": "text/x-python",
   "name": "python",
   "nbconvert_exporter": "python",
   "pygments_lexer": "ipython3",
   "version": "3.9.21"
  }
 },
 "nbformat": 4,
 "nbformat_minor": 2
}
