{
 "cells": [
  {
   "cell_type": "code",
   "execution_count": 1,
   "metadata": {},
   "outputs": [],
   "source": [
    "# refer to the previous tutorial hello_milvus, https://milvus.io/docs/v2.3.x/example_code.md\n",
    "# In this tutorail, we demonstrate the basic operations of PyMilvus, a Python SDK of Milvus.\n",
    "\n",
    "# 1. connect to Milvus\n",
    "# 2. create a collection\n",
    "# 3. insert data\n",
    "# 4. create index\n",
    "# 5. search, query, and hybrid search on entities\n",
    "# 6. delete entities by PK\n",
    "# 7. drop collection\n",
    "\n",
    "# compared to quickStart.ipynb, it will involve more detailed operations"
   ]
  },
  {
   "cell_type": "code",
   "execution_count": 2,
   "metadata": {},
   "outputs": [],
   "source": [
    "import time\n",
    "import numpy as np\n",
    "from pymilvus import MilvusClient, FieldSchema, CollectionSchema, DataType"
   ]
  },
  {
   "cell_type": "code",
   "execution_count": 3,
   "metadata": {},
   "outputs": [],
   "source": [
    "fmt = \"\\n=== {:30} ===\\n\"\n",
    "search_latency_fmt = \"search latency = {:.4f}s\"\n",
    "num_entities, dim = 3000, 8"
   ]
  },
  {
   "cell_type": "code",
   "execution_count": 6,
   "metadata": {},
   "outputs": [
    {
     "data": {
      "text/plain": [
       "['default', 'testdb']"
      ]
     },
     "execution_count": 6,
     "metadata": {},
     "output_type": "execute_result"
    }
   ],
   "source": [
    "# --------------- 1. Connect to Milvus Server\n",
    "HOST = '10.10.10.250'\n",
    "PORT = 19530\n",
    "DB_NAME = 'testdb'\n",
    "URL=\"http://\"+HOST+':'+str(PORT)\n",
    "# if you deployed the standalone milvus, and connect to the database server\n",
    "# if you deployed in your local machine, use \"http://localhost:19530\"\n",
    "client = MilvusClient(URL)\n",
    "\n",
    "if DB_NAME not in client.list_databases():\n",
    "    client.create_database(DB_NAME)\n",
    "client.using_database(DB_NAME)\n",
    "client.list_databases()"
   ]
  },
  {
   "cell_type": "code",
   "execution_count": 7,
   "metadata": {},
   "outputs": [],
   "source": [
    "# ---------------- 2. Create a collection with customized schema\n",
    "# We are going to create a collection with 3 fields.\n",
    "# +-+------------+------------+------------------+------------------------------+\n",
    "# | | field name | field type | other attributes |       field description      |\n",
    "# +-+------------+------------+------------------+------------------------------+\n",
    "# |1|    \"pk\"    |   VarChar  |  is_primary=True |      \"primary field\"         |\n",
    "# | |            |            |   auto_id=False  |                              |\n",
    "# +-+------------+------------+------------------+------------------------------+\n",
    "# |2|  \"random\"  |    Double  |                  |      \"a double field\"        |\n",
    "# +-+------------+------------+------------------+------------------------------+\n",
    "# |3|\"embeddings\"| FloatVector|     dim=8        |  \"float vector with dim 8\"   |\n",
    "# +-+------------+------------+------------------+------------------------------+\n",
    "COLLECTION_NAME = 'demo_collection'\n",
    "schema = MilvusClient.create_schema(\n",
    "    auto_id=False,\n",
    "    enable_dynamic_field=True,\n",
    ")\n",
    "schema.add_field(field_name=\"pk\", datatype=DataType.VARCHAR,\n",
    "                 is_primary=True, auto_id=False, max_length=100)\n",
    "schema.add_field(field_name=\"random\", datatype=DataType.DOUBLE)\n",
    "schema.add_field(field_name=\"embeddings\",\n",
    "                 datatype=DataType.FLOAT_VECTOR, dim=dim)\n",
    "\n",
    "if client.has_collection(COLLECTION_NAME):\n",
    "    client.drop_collection(COLLECTION_NAME)\n",
    "res = client.create_collection(\n",
    "    collection_name=COLLECTION_NAME,\n",
    "    schema=schema\n",
    ")\n",
    "res"
   ]
  },
  {
   "cell_type": "code",
   "execution_count": 8,
   "metadata": {},
   "outputs": [
    {
     "data": {
      "text/plain": [
       "3000"
      ]
     },
     "execution_count": 8,
     "metadata": {},
     "output_type": "execute_result"
    }
   ],
   "source": [
    "# ---------------- 3. Insert data\n",
    "# We are going to insert 3000 rows of data into 'demo_collection'.add()\n",
    "# Data to be inserted must be organized in fields.\n",
    "# The insert() returns:\n",
    "# - either automatically generated primary keys if auto_id = True in the schema\n",
    "# - or user-defined primary keys if auto_id = False in the schema\n",
    "rng = np.random.default_rng(seed=2025)\n",
    "entities = [\n",
    "   # provide the pk field because `auto_id` is set to False\n",
    "    [str(i) for i in range(num_entities)],\n",
    "    rng.random(num_entities).tolist(),  # field random, only supports list\n",
    "    rng.random((num_entities, dim)),    # field embeddings, supports numpy.ndarray and list\n",
    "]\n",
    "data = [\n",
    "    {\"pk\": x, \"random\"  : y, \"embeddings\": z} \n",
    "    for x, y, z in zip(*entities)\n",
    "]\n",
    "\n",
    "res = client.insert(data = data, collection_name=COLLECTION_NAME)\n",
    "res['insert_count']"
   ]
  },
  {
   "cell_type": "code",
   "execution_count": 9,
   "metadata": {},
   "outputs": [
    {
     "data": {
      "text/plain": [
       "{'row_count': 3000}"
      ]
     },
     "execution_count": 9,
     "metadata": {},
     "output_type": "execute_result"
    }
   ],
   "source": [
    "# flush and check the number of entities\n",
    "client.flush(collection_name=COLLECTION_NAME)\n",
    "client.get_collection_stats(COLLECTION_NAME)"
   ]
  },
  {
   "cell_type": "code",
   "execution_count": 10,
   "metadata": {},
   "outputs": [],
   "source": [
    "# ---------------- 4. create index \n",
    "# We are going to create an IVF_FLAT index for this collection.\n",
    "# create_index() can only be applied to `FloatVector` and `BinaryVector` fields.\n",
    "# details of index can be found in https://milvus.io/docs/index-vector-fields.md\n",
    "\n",
    "index_params = MilvusClient.prepare_index_params()\n",
    "index_params.add_index(\n",
    "    field_name=\"embeddings\",\n",
    "    metric_type=\"L2\",\n",
    "    index_type=\"IVF_FLAT\",\n",
    "    index_name=\"vector_index\",\n",
    "    params={\"nlist\": 128}\n",
    ")\n",
    "\n",
    "client.create_index(\n",
    "    collection_name=COLLECTION_NAME,\n",
    "    index_params = index_params,\n",
    "    sync = False # Whether to wait for index creation to complete before returning. Defaults to True.\n",
    ")"
   ]
  },
  {
   "cell_type": "code",
   "execution_count": 11,
   "metadata": {},
   "outputs": [
    {
     "name": "stdout",
     "output_type": "stream",
     "text": [
      "\n",
      "=== Load collection                ===\n",
      "\n",
      "{'state': <LoadState: Loaded>}\n",
      "\n",
      "=== Start searching based on vector similarity ===\n",
      "\n",
      "[[0.2656976  0.171993   0.91092544 0.14604513 0.25858877 0.95456009\n",
      "  0.5787366  0.91869466]\n",
      " [0.84256713 0.74070046 0.85305628 0.41972725 0.29071471 0.72756499\n",
      "  0.56489305 0.57036048]]\n",
      "hit distance: 0.0, pk field: 2998 random field: 0.33275249632421944\n",
      "hit distance: 0.14918643236160278, pk field: 657 random field: 0.5011751600348467\n",
      "hit distance: 0.15586762130260468, pk field: 1236 random field: 0.9941086782691402\n",
      "hit distance: 0.16213689744472504, pk field: 2705 random field: 0.429570630790552\n",
      "hit distance: 0.0, pk field: 2999 random field: 0.6066943264600407\n",
      "hit distance: 0.06192314624786377, pk field: 1277 random field: 0.14939943687845592\n",
      "hit distance: 0.1049613207578659, pk field: 1544 random field: 0.4428134410010268\n",
      "hit distance: 0.1197763979434967, pk field: 598 random field: 0.46292542343899024\n",
      "search latency = 2.0846s\n"
     ]
    }
   ],
   "source": [
    "# --------------------- 5. search, query, and hybrid search\n",
    "# After data were inserted into Milvus and indexed, you can perform:\n",
    "# - search based on vector similarity\n",
    "# - query based on scalar filtering(boolean, int, etc.)\n",
    "# - hybrid search based on vector similarity and scalar filtering.\n",
    "\n",
    "# Before conducting a search or a query, you need to load the data into memory.\n",
    "# Milvus loads the index files and the raw data of all fields into memory for rapid response to searches and queries.\n",
    "# Entities inserted after a collection load are automatically indexed and loaded.\n",
    "\n",
    "client.load_collection(collection_name=COLLECTION_NAME)\n",
    "res = client.get_load_state(collection_name=COLLECTION_NAME)\n",
    "print(fmt.format(\"Load collection\"))\n",
    "print(res)\n",
    "\n",
    "print(fmt.format(\"Start searching based on vector similarity\"))\n",
    "vectors_to_search = entities[-1][-2:]\n",
    "print(vectors_to_search)\n",
    "\n",
    "search_params = {\n",
    "    \"metric_type\": \"L2\",\n",
    "    \"params\": {\"nprobe\": 10},\n",
    "}\n",
    "start_time = time.time()\n",
    "\n",
    "# refer to the doc https://milvus.io/docs/single-vector-search.md\n",
    "res = client.search(\n",
    "    collection_name=COLLECTION_NAME,\n",
    "    data=vectors_to_search,\n",
    "    limit=4,\n",
    "    search_params=search_params,\n",
    "    output_fields=[\"random\", \"pk\"]\n",
    ")\n",
    "end_time = time.time()\n",
    "\n",
    "for hits in res:\n",
    "    for hit in hits:\n",
    "        entity = hit['entity']\n",
    "        print(f\"hit distance: {hit['distance']}, pk field: {entity.get('pk')} random field: {entity.get('random')}\")\n",
    "print(search_latency_fmt.format(end_time - start_time))\n"
   ]
  },
  {
   "cell_type": "code",
   "execution_count": 12,
   "metadata": {},
   "outputs": [
    {
     "name": "stdout",
     "output_type": "stream",
     "text": [
      "query result:\n",
      "{'random': 0.9944578051677608, 'pk': '0'}\n",
      "search latency = 0.0118s\n"
     ]
    }
   ],
   "source": [
    "# query based on scalar filtering (boolean, int, etc.)\n",
    "# expr details can be found in https://milvus.io/docs/boolean.md\n",
    "start_time = time.time()\n",
    "res = client.query(\n",
    "    collection_name=COLLECTION_NAME,\n",
    "    filter=f\"random > 0.8\",\n",
    "    output_fields=[\"random\", \"pk\"],\n",
    ")\n",
    "end_time = time.time()\n",
    "print(f\"query result:\\n{res[0]}\")\n",
    "print(search_latency_fmt.format(end_time - start_time))"
   ]
  },
  {
   "cell_type": "code",
   "execution_count": 13,
   "metadata": {},
   "outputs": [
    {
     "name": "stdout",
     "output_type": "stream",
     "text": [
      "query pagination(limit=4):\n",
      "\tdata: [\"{'random': 0.9944578051677608, 'pk': '0'}\", \"{'random': 0.9032464289430996, 'pk': '1000'}\", \"{'random': 0.9653262466962503, 'pk': '1002'}\", \"{'random': 0.9492585570925737, 'pk': '1007'}\"] \n",
      "query pagination(offset=1, limit=3):\n",
      "\tdata: [\"{'pk': '1000', 'random': 0.9032464289430996}\", \"{'pk': '1002', 'random': 0.9653262466962503}\", \"{'pk': '1007', 'random': 0.9492585570925737}\"] \n"
     ]
    }
   ],
   "source": [
    "# pagination\n",
    "r1 = client.query(\n",
    "    collection_name=COLLECTION_NAME,\n",
    "    filter=f\"random > 0.8\",\n",
    "    output_fields=[\"random\", \"pk\"],\n",
    "    limit=4,\n",
    ")\n",
    "\n",
    "r2 = client.query(\n",
    "    collection_name=COLLECTION_NAME,\n",
    "    filter=f\"random > 0.8\",\n",
    "    output_fields=[\"random\", \"pk\"],\n",
    "    limit=3,\n",
    "    offset=1\n",
    ")\n",
    "print(f\"query pagination(limit=4):\\n\\t{r1}\")\n",
    "print(f\"query pagination(offset=1, limit=3):\\n\\t{r2}\")"
   ]
  },
  {
   "cell_type": "code",
   "execution_count": 14,
   "metadata": {},
   "outputs": [
    {
     "name": "stdout",
     "output_type": "stream",
     "text": [
      "hit distance: 0.15586762130260468, pk field: 1236 random field: 0.9941086782691402\n",
      "hit distance: 0.1722332090139389, pk field: 796 random field: 0.8013339188414864\n",
      "hit distance: 0.19888439774513245, pk field: 137 random field: 0.9970659791038791\n",
      "hit distance: 0.2118156999349594, pk field: 1520 random field: 0.8977844898616876\n",
      "hit distance: 0.17695319652557373, pk field: 659 random field: 0.9506619402274943\n",
      "hit distance: 0.18178263306617737, pk field: 58 random field: 0.9310743903641379\n",
      "hit distance: 0.19831611216068268, pk field: 2453 random field: 0.8160436876255385\n",
      "hit distance: 0.22429069876670837, pk field: 2938 random field: 0.9848352771777965\n",
      "search latency = 0.0037s\n"
     ]
    }
   ],
   "source": [
    "# hybrid search \n",
    "start_time = time.time()\n",
    "res = client.search(\n",
    "    collection_name=COLLECTION_NAME,\n",
    "    data=vectors_to_search,\n",
    "    filter=f\"random > 0.8\",\n",
    "    limit=4,\n",
    "    search_params=search_params,\n",
    "    output_fields=[\"random\", \"pk\"]\n",
    ")\n",
    "end_time = time.time()\n",
    "\n",
    "for hits in res:\n",
    "    for hit in hits:\n",
    "        entity = hit['entity']\n",
    "        print(f\"hit distance: {hit['distance']}, pk field: {entity.get('pk')} random field: {entity.get('random')}\")\n",
    "print(search_latency_fmt.format(end_time - start_time))"
   ]
  },
  {
   "cell_type": "code",
   "execution_count": 15,
   "metadata": {},
   "outputs": [
    {
     "name": "stdout",
     "output_type": "stream",
     "text": [
      "query before delete by expr=`pk in[\"3\",\"1000\"]` -> result: \n",
      "-{'random': 0.9032464289430996, 'pk': '1000'}\n",
      "-{'random': 0.8372552761899896, 'pk': '3'}\n",
      "\n",
      "{'delete_count': 2}\n",
      "query after delete by expr=`pk in[\"3\",\"1000\"]` -> result: data: [\"{'pk': '1000', 'random': 0.9032464289430996}\", \"{'pk': '3', 'random': 0.8372552761899896}\"] \n",
      "\n"
     ]
    }
   ],
   "source": [
    "# ---------------- 6. delete entities by PK\n",
    "# You can delete entities by their PK values using boolean expressions.\n",
    "filtering = f'pk in[\"{3}\",\"{1000}\"]'\n",
    "res = client.query(\n",
    "    collection_name=COLLECTION_NAME,\n",
    "    filter=filtering,\n",
    "    output_fields=[\"pk\", \"random\"],\n",
    ")\n",
    "print(f\"query before delete by expr=`{filtering}` -> result: \\n-{res[0]}\\n-{res[1]}\\n\")\n",
    "\n",
    "res = client.delete(\n",
    "    collection_name=COLLECTION_NAME,\n",
    "    filter = filtering\n",
    ")\n",
    "\n",
    "print(res)\n",
    "\n",
    "res = client.query(\n",
    "    collection_name=COLLECTION_NAME,\n",
    "    filter=filtering,\n",
    "    output_fields=[\"pk\", \"random\"],\n",
    ")\n",
    "print(f\"query after delete by expr=`{filtering}` -> result: {res}\\n\")"
   ]
  },
  {
   "cell_type": "code",
   "execution_count": 16,
   "metadata": {},
   "outputs": [],
   "source": [
    "# ---------------- 7. drop collection\n",
    "client.drop_collection(COLLECTION_NAME)\n",
    "client.close()"
   ]
  },
  {
   "cell_type": "code",
   "execution_count": null,
   "metadata": {},
   "outputs": [],
   "source": []
  }
 ],
 "metadata": {
  "kernelspec": {
   "display_name": "milvus",
   "language": "python",
   "name": "python3"
  },
  "language_info": {
   "codemirror_mode": {
    "name": "ipython",
    "version": 3
   },
   "file_extension": ".py",
   "mimetype": "text/x-python",
   "name": "python",
   "nbconvert_exporter": "python",
   "pygments_lexer": "ipython3",
   "version": "3.9.21"
  }
 },
 "nbformat": 4,
 "nbformat_minor": 2
}
