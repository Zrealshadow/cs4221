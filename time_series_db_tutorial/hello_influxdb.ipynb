{
 "cells": [
  {
   "cell_type": "code",
   "execution_count": 1,
   "metadata": {},
   "outputs": [],
   "source": [
    "import influxdb_client\n",
    "import os\n",
    "import time\n",
    "from influxdb_client import InfluxDBClient, Point, WritePrecision\n",
    "from influxdb_client.client.write_api import SYNCHRONOUS\n",
    "\n",
    "token = os.environ.get(\"INFLUXDB_TOKEN\")\n",
    "# export your token into the environment variable INFLUXDB_TOKEN first\n",
    "url = \"http://10.10.10.247:8086\"\n",
    "# replace url with your server address\n",
    "# if your server is on the same machine, use \"http://localhost:8086\"\n",
    "\n",
    "write_client = influxdb_client.InfluxDBClient(url=url, token=token)"
   ]
  },
  {
   "cell_type": "code",
   "execution_count": 4,
   "metadata": {},
   "outputs": [],
   "source": [
    "bucket = \"get-started\"\n",
    "write_api = write_client.write_api(write_options=SYNCHRONOUS)\n",
    "\n",
    "for value in range(5):\n",
    "    point = (\n",
    "        Point(\"measurement1\")\n",
    "        .tag(\"tagname1\", \"tagvalue1\")\n",
    "        .field(\"field\", value)\n",
    "    )\n",
    "    write_api.write(bucket=bucket, org='docs', record=point)\n",
    "    # the default org is 'docs' if you deploy by docker-compose\n",
    "    time.sleep(1)"
   ]
  },
  {
   "cell_type": "code",
   "execution_count": 7,
   "metadata": {},
   "outputs": [
    {
     "name": "stdout",
     "output_type": "stream",
     "text": [
      "FluxRecord() table: 0, {'result': '_result', 'table': 0, '_start': datetime.datetime(2025, 1, 7, 12, 7, 46, 518795, tzinfo=tzlocal()), '_stop': datetime.datetime(2025, 1, 7, 13, 7, 46, 518795, tzinfo=tzlocal()), '_value': 2.0, '_field': 'field', '_measurement': 'measurement1', 'tagname1': 'tagvalue1'}\n"
     ]
    }
   ],
   "source": [
    "query_api = write_client.query_api()\n",
    "query = \"\"\"from(bucket: \"get-started\")\n",
    "|> range(start: -10m)\n",
    "|> filter(fn: (r) => r._measurement == \"measurement1\")\n",
    "|> mean() \"\"\"\n",
    "# Flux language\n",
    "# Flux is an open source functional data scripting language \n",
    "# designed for querying, analyzing, and acting on data.\n",
    "# for more details, please refer to flux language tutorial: https://docs.influxdata.com/flux/v0/\n",
    "\n",
    "# retrieve the last 10 miniutes data and filter the measurement\n",
    "# then calculate the mean value\n",
    "\n",
    "tables = query_api.query(query, org=\"docs\")\n",
    "\n",
    "for table in tables:\n",
    "    for record in table.records:\n",
    "        print(record)"
   ]
  },
  {
   "cell_type": "code",
   "execution_count": null,
   "metadata": {},
   "outputs": [],
   "source": []
  }
 ],
 "metadata": {
  "kernelspec": {
   "display_name": "milvus",
   "language": "python",
   "name": "python3"
  },
  "language_info": {
   "codemirror_mode": {
    "name": "ipython",
    "version": 3
   },
   "file_extension": ".py",
   "mimetype": "text/x-python",
   "name": "python",
   "nbconvert_exporter": "python",
   "pygments_lexer": "ipython3",
   "version": "3.9.21"
  }
 },
 "nbformat": 4,
 "nbformat_minor": 2
}
