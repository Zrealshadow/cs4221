{
 "cells": [
  {
   "cell_type": "code",
   "execution_count": 1,
   "metadata": {},
   "outputs": [],
   "source": [
    "import influxdb_client\n",
    "import os\n",
    "import time\n",
    "from datetime import datetime\n",
    "import pandas as pd\n",
    "from influxdb_client.client.write_api import SYNCHRONOUS,ASYNCHRONOUS\n",
    "from influxdb_client.client.query_api import TableList\n",
    "from influxdb_client.client.write_api import Point\n",
    "import s2cell"
   ]
  },
  {
   "cell_type": "code",
   "execution_count": 2,
   "metadata": {},
   "outputs": [],
   "source": [
    "\n",
    "token = \"MyInitialAdminToken0==\"\n",
    "# token = os.environ.get(\"INFLUXDB_TOKEN\")\n",
    "# export your token into the environment variable INFLUXDB_TOKEN first\n",
    "# or you can set it directly here\n",
    "url = \"http://10.10.10.250:8086\"\n",
    "# [hw]\n",
    "# replace url with your server address\n",
    "# if your server is on the same machine, use \"http://localhost:8086\"\n",
    "\n",
    "# set time 60s, the default is 10s may not be enough in this tutorial\n",
    "timeout = 60 * 1000\n",
    "client = influxdb_client.InfluxDBClient(url=url, token=token, timeout=timeout)"
   ]
  },
  {
   "cell_type": "code",
   "execution_count": 3,
   "metadata": {},
   "outputs": [],
   "source": [
    "# In this tutoriakl we will investigate the data from Hartford Police Department\n",
    "# This historical dataset reflects reported incidents of crime (with the execption of sexual assaults)\n",
    "# that occurred in the City of Hartford from January 1, 2005 to May 18, 2021.\n",
    "\n",
    "# download link\n",
    "# - https://data.hartford.gov/datasets/hartfordgis::police-incidents-01012005-to-05182021/about\n",
    "data = pd.read_csv(\"./Police_Incidents_01012005_to_05182021.csv\", index_col=False)"
   ]
  },
  {
   "cell_type": "code",
   "execution_count": 4,
   "metadata": {},
   "outputs": [
    {
     "data": {
      "text/html": [
       "<div>\n",
       "<style scoped>\n",
       "    .dataframe tbody tr th:only-of-type {\n",
       "        vertical-align: middle;\n",
       "    }\n",
       "\n",
       "    .dataframe tbody tr th {\n",
       "        vertical-align: top;\n",
       "    }\n",
       "\n",
       "    .dataframe thead th {\n",
       "        text-align: right;\n",
       "    }\n",
       "</style>\n",
       "<table border=\"1\" class=\"dataframe\">\n",
       "  <thead>\n",
       "    <tr style=\"text-align: right;\">\n",
       "      <th></th>\n",
       "      <th>X</th>\n",
       "      <th>Y</th>\n",
       "      <th>OBJECTID</th>\n",
       "      <th>Case_Number</th>\n",
       "      <th>Date</th>\n",
       "      <th>Time_24HR</th>\n",
       "      <th>Address</th>\n",
       "      <th>UCR_1_Category</th>\n",
       "      <th>UCR_1_Description</th>\n",
       "      <th>UCR_1_Code</th>\n",
       "      <th>UCR_2_Category</th>\n",
       "      <th>UCR_2_Description</th>\n",
       "      <th>UCR_2_Code</th>\n",
       "      <th>Neighborhood</th>\n",
       "      <th>PRIMARY_KEY</th>\n",
       "    </tr>\n",
       "  </thead>\n",
       "  <tbody>\n",
       "    <tr>\n",
       "      <th>0</th>\n",
       "      <td>1.018388e+06</td>\n",
       "      <td>836860.062479</td>\n",
       "      <td>1</td>\n",
       "      <td>5001564</td>\n",
       "      <td>2005/01/11 00:00:00+00</td>\n",
       "      <td>1630</td>\n",
       "      <td>161 WASHINGTON ST</td>\n",
       "      <td>19* - CRIMES AGAINST THE PUBLIC</td>\n",
       "      <td>BREACH-PEACE</td>\n",
       "      <td>1901</td>\n",
       "      <td>NaN</td>\n",
       "      <td>NaN</td>\n",
       "      <td>0</td>\n",
       "      <td>FROG HOLLOW</td>\n",
       "      <td>CIRS-5001564-0</td>\n",
       "    </tr>\n",
       "    <tr>\n",
       "      <th>1</th>\n",
       "      <td>1.014889e+06</td>\n",
       "      <td>853267.562472</td>\n",
       "      <td>2</td>\n",
       "      <td>5001565</td>\n",
       "      <td>2005/01/11 00:00:00+00</td>\n",
       "      <td>1613</td>\n",
       "      <td>587 BLUE HILLS AV</td>\n",
       "      <td>51* - MISC. MANAGEMENT INFO.</td>\n",
       "      <td>COMM TENSION;COMM-SERVICE</td>\n",
       "      <td>5104</td>\n",
       "      <td>NaN</td>\n",
       "      <td>NaN</td>\n",
       "      <td>0</td>\n",
       "      <td>BLUE HILLS</td>\n",
       "      <td>CIRS-5001565-0</td>\n",
       "    </tr>\n",
       "    <tr>\n",
       "      <th>2</th>\n",
       "      <td>1.019379e+06</td>\n",
       "      <td>829663.750100</td>\n",
       "      <td>3</td>\n",
       "      <td>5001567</td>\n",
       "      <td>2005/01/10 00:00:00+00</td>\n",
       "      <td>2000</td>\n",
       "      <td>29 DOUGLAS ST</td>\n",
       "      <td>19* - CRIMES AGAINST THE PUBLIC</td>\n",
       "      <td>DOMESTIC</td>\n",
       "      <td>1904</td>\n",
       "      <td>19* - CRIMES AGAINST THE PUBLIC</td>\n",
       "      <td>DOMESTIC</td>\n",
       "      <td>1904</td>\n",
       "      <td>SOUTHEND</td>\n",
       "      <td>CIRS-5001567-0</td>\n",
       "    </tr>\n",
       "    <tr>\n",
       "      <th>3</th>\n",
       "      <td>1.017282e+06</td>\n",
       "      <td>838990.000148</td>\n",
       "      <td>4</td>\n",
       "      <td>5001569</td>\n",
       "      <td>2005/01/11 00:00:00+00</td>\n",
       "      <td>1645</td>\n",
       "      <td>BROAD ST &amp; CAPITOL AV</td>\n",
       "      <td>29* - FOUND PERSON/PROPERTY</td>\n",
       "      <td>M-V-S-O-T-R-L</td>\n",
       "      <td>2905</td>\n",
       "      <td>NaN</td>\n",
       "      <td>NaN</td>\n",
       "      <td>0</td>\n",
       "      <td>FROG HOLLOW</td>\n",
       "      <td>CIRS-5001569-0</td>\n",
       "    </tr>\n",
       "    <tr>\n",
       "      <th>4</th>\n",
       "      <td>1.014887e+06</td>\n",
       "      <td>839367.143423</td>\n",
       "      <td>5</td>\n",
       "      <td>5000476</td>\n",
       "      <td>2005/01/04 00:00:00+00</td>\n",
       "      <td>830</td>\n",
       "      <td>30 HAWTHORN ST</td>\n",
       "      <td>35* - MISC. CRIMES AGAINST PROPERTY</td>\n",
       "      <td>CR MISCHIEF 3</td>\n",
       "      <td>3503</td>\n",
       "      <td>NaN</td>\n",
       "      <td>NaN</td>\n",
       "      <td>0</td>\n",
       "      <td>ASYLUM HILL</td>\n",
       "      <td>CIRS-5000476-0</td>\n",
       "    </tr>\n",
       "  </tbody>\n",
       "</table>\n",
       "</div>"
      ],
      "text/plain": [
       "              X              Y  OBJECTID  Case_Number                    Date  \\\n",
       "0  1.018388e+06  836860.062479         1      5001564  2005/01/11 00:00:00+00   \n",
       "1  1.014889e+06  853267.562472         2      5001565  2005/01/11 00:00:00+00   \n",
       "2  1.019379e+06  829663.750100         3      5001567  2005/01/10 00:00:00+00   \n",
       "3  1.017282e+06  838990.000148         4      5001569  2005/01/11 00:00:00+00   \n",
       "4  1.014887e+06  839367.143423         5      5000476  2005/01/04 00:00:00+00   \n",
       "\n",
       "   Time_24HR                Address                       UCR_1_Category  \\\n",
       "0       1630      161 WASHINGTON ST      19* - CRIMES AGAINST THE PUBLIC   \n",
       "1       1613      587 BLUE HILLS AV         51* - MISC. MANAGEMENT INFO.   \n",
       "2       2000          29 DOUGLAS ST      19* - CRIMES AGAINST THE PUBLIC   \n",
       "3       1645  BROAD ST & CAPITOL AV          29* - FOUND PERSON/PROPERTY   \n",
       "4        830         30 HAWTHORN ST  35* - MISC. CRIMES AGAINST PROPERTY   \n",
       "\n",
       "           UCR_1_Description  UCR_1_Code                   UCR_2_Category  \\\n",
       "0  BREACH-PEACE                     1901                              NaN   \n",
       "1  COMM TENSION;COMM-SERVICE        5104                              NaN   \n",
       "2  DOMESTIC                         1904  19* - CRIMES AGAINST THE PUBLIC   \n",
       "3  M-V-S-O-T-R-L                    2905                              NaN   \n",
       "4  CR MISCHIEF 3                    3503                              NaN   \n",
       "\n",
       "  UCR_2_Description  UCR_2_Code          Neighborhood         PRIMARY_KEY  \n",
       "0               NaN           0  FROG HOLLOW           CIRS-5001564-0      \n",
       "1               NaN           0  BLUE HILLS            CIRS-5001565-0      \n",
       "2          DOMESTIC        1904  SOUTHEND              CIRS-5001567-0      \n",
       "3               NaN           0  FROG HOLLOW           CIRS-5001569-0      \n",
       "4               NaN           0  ASYLUM HILL           CIRS-5000476-0      "
      ]
     },
     "execution_count": 4,
     "metadata": {},
     "output_type": "execute_result"
    }
   ],
   "source": [
    "data.head()"
   ]
  },
  {
   "cell_type": "code",
   "execution_count": 5,
   "metadata": {},
   "outputs": [
    {
     "name": "stdout",
     "output_type": "stream",
     "text": [
      "(50411, 15)\n"
     ]
    }
   ],
   "source": [
    "# if your machine can not hold the data, you can use the following code to select data in a specific time range\n",
    "data = data[(data[\"Date\"] >= \"2019-01-01\")]\n",
    "print(data.shape)"
   ]
  },
  {
   "cell_type": "code",
   "execution_count": 7,
   "metadata": {},
   "outputs": [],
   "source": [
    "# preprocess the data heuristically\n",
    "# we skip the data investigation step and directly give the conclusion and preprocess\n",
    "\n",
    "# 1. lowercase all columns\n",
    "data.columns = data.columns.str.lower()\n",
    "\n",
    "\n",
    "# 2. X(longitutde), Y(altitue) -> combine by s2cell as location feature\n",
    "S2_LEVEL = 10\n",
    "combine_xy = lambda x: s2cell.lat_lon_to_token(x[\"x\"], x[\"y\"], S2_LEVEL)\n",
    "data[\"location\"] = data[data[\"x\"].notna() & data[\"y\"].notna()].apply(combine_xy, axis=1)\n",
    "\n",
    "\n",
    "\n",
    "# 3. combine the Date and Time_24HR columns into a single datetime column\n",
    "candidates = zip(pd.to_datetime(data[\"date\"]).to_list(), data[\"time_24hr\"].to_list())\n",
    "datetime_values = []\n",
    "for (dts, hms) in candidates:\n",
    "    if hms < 60 :\n",
    "        hr = 0\n",
    "        m = hms\n",
    "    else:\n",
    "        hms_ = str(hms)\n",
    "        hr, m = int(hms_[:-2]), int(hms_[-2:])\n",
    "    datetime_values.append(datetime.fromtimestamp(dts.timestamp() + hr * 3600 + m * 60))\n",
    "data[\"datetime\"] = pd.to_datetime(datetime_values)\n",
    "\n",
    "\n",
    "# 4. remove the duplicated columns OBJECTID, Case_Number\n",
    "# these columns have high cardinality and are duplicated with PrimaryKey\n",
    "data = data.drop(columns=[\"objectid\", \"case_number\",\"date\", \"time_24hr\"]) \n"
   ]
  },
  {
   "cell_type": "code",
   "execution_count": 8,
   "metadata": {},
   "outputs": [
    {
     "name": "stdout",
     "output_type": "stream",
     "text": [
      "column ucr_2_category has NaN values\n",
      "column ucr_2_description has NaN values\n"
     ]
    }
   ],
   "source": [
    "for column in data.columns:\n",
    "    if data[column].isna().any():\n",
    "        print(f\"column {column} has NaN values\")"
   ]
  },
  {
   "cell_type": "code",
   "execution_count": 9,
   "metadata": {},
   "outputs": [
    {
     "data": {
      "text/html": [
       "<div>\n",
       "<style scoped>\n",
       "    .dataframe tbody tr th:only-of-type {\n",
       "        vertical-align: middle;\n",
       "    }\n",
       "\n",
       "    .dataframe tbody tr th {\n",
       "        vertical-align: top;\n",
       "    }\n",
       "\n",
       "    .dataframe thead th {\n",
       "        text-align: right;\n",
       "    }\n",
       "</style>\n",
       "<table border=\"1\" class=\"dataframe\">\n",
       "  <thead>\n",
       "    <tr style=\"text-align: right;\">\n",
       "      <th></th>\n",
       "      <th>x</th>\n",
       "      <th>y</th>\n",
       "      <th>address</th>\n",
       "      <th>ucr_1_category</th>\n",
       "      <th>ucr_1_description</th>\n",
       "      <th>ucr_1_code</th>\n",
       "      <th>ucr_2_category</th>\n",
       "      <th>ucr_2_description</th>\n",
       "      <th>ucr_2_code</th>\n",
       "      <th>neighborhood</th>\n",
       "      <th>primary_key</th>\n",
       "      <th>location</th>\n",
       "      <th>datetime</th>\n",
       "    </tr>\n",
       "  </thead>\n",
       "  <tbody>\n",
       "    <tr>\n",
       "      <th>591635</th>\n",
       "      <td>1.019841e+06</td>\n",
       "      <td>829628.619921</td>\n",
       "      <td>32 WINSHIP ST</td>\n",
       "      <td>32* - PROPERTY DAMAGE ACCIDENT</td>\n",
       "      <td>PROP DAM ACC</td>\n",
       "      <td>3224</td>\n",
       "      <td>23* - DRIVING LAWS</td>\n",
       "      <td>IMPROPER BACKING</td>\n",
       "      <td>2340</td>\n",
       "      <td>SOUTHEND</td>\n",
       "      <td>CIRS-21008791-0</td>\n",
       "      <td>72e771</td>\n",
       "      <td>2021-03-25 13:17:00</td>\n",
       "    </tr>\n",
       "    <tr>\n",
       "      <th>591636</th>\n",
       "      <td>1.013029e+06</td>\n",
       "      <td>845714.939782</td>\n",
       "      <td>410 HOMESTEAD AV</td>\n",
       "      <td>32* - PROPERTY DAMAGE ACCIDENT</td>\n",
       "      <td>PROP DAM ACC</td>\n",
       "      <td>3224</td>\n",
       "      <td>23* - DRIVING LAWS</td>\n",
       "      <td>FTGRW/DRIVEWAY</td>\n",
       "      <td>2336</td>\n",
       "      <td>UPPER ALBANY</td>\n",
       "      <td>CIRS-21008798-0</td>\n",
       "      <td>245ecb</td>\n",
       "      <td>2021-03-25 14:38:00</td>\n",
       "    </tr>\n",
       "    <tr>\n",
       "      <th>591637</th>\n",
       "      <td>1.010687e+06</td>\n",
       "      <td>830429.727899</td>\n",
       "      <td>65 WILLIAM SHORTY CAMPBELL ST</td>\n",
       "      <td>06* - LARCENY</td>\n",
       "      <td>LARC3 SHOPLIFT</td>\n",
       "      <td>624</td>\n",
       "      <td>NaN</td>\n",
       "      <td>NaN</td>\n",
       "      <td>0</td>\n",
       "      <td>BEHIND THE ROCKS</td>\n",
       "      <td>CIRS-21009417-0</td>\n",
       "      <td>3a786b</td>\n",
       "      <td>2021-03-31 17:38:00</td>\n",
       "    </tr>\n",
       "    <tr>\n",
       "      <th>591639</th>\n",
       "      <td>1.019481e+06</td>\n",
       "      <td>840695.569900</td>\n",
       "      <td>111 ALLYN ST</td>\n",
       "      <td>05* - BURGLARY</td>\n",
       "      <td>BURG3-COM-NITE</td>\n",
       "      <td>522</td>\n",
       "      <td>NaN</td>\n",
       "      <td>NaN</td>\n",
       "      <td>0</td>\n",
       "      <td>DOWNTOWN</td>\n",
       "      <td>CIRS-21008889-0</td>\n",
       "      <td>2841ad</td>\n",
       "      <td>2021-03-26 00:30:00</td>\n",
       "    </tr>\n",
       "    <tr>\n",
       "      <th>591640</th>\n",
       "      <td>1.014458e+06</td>\n",
       "      <td>849925.620009</td>\n",
       "      <td>320 BLUE HILLS AV</td>\n",
       "      <td>06* - LARCENY</td>\n",
       "      <td>LARC3-FROM M/V</td>\n",
       "      <td>634</td>\n",
       "      <td>NaN</td>\n",
       "      <td>NaN</td>\n",
       "      <td>0</td>\n",
       "      <td>BLUE HILLS</td>\n",
       "      <td>CIRS-21009143-0</td>\n",
       "      <td>01278f</td>\n",
       "      <td>2021-03-29 00:00:00</td>\n",
       "    </tr>\n",
       "  </tbody>\n",
       "</table>\n",
       "</div>"
      ],
      "text/plain": [
       "                   x              y                        address  \\\n",
       "591635  1.019841e+06  829628.619921                  32 WINSHIP ST   \n",
       "591636  1.013029e+06  845714.939782               410 HOMESTEAD AV   \n",
       "591637  1.010687e+06  830429.727899  65 WILLIAM SHORTY CAMPBELL ST   \n",
       "591639  1.019481e+06  840695.569900                   111 ALLYN ST   \n",
       "591640  1.014458e+06  849925.620009              320 BLUE HILLS AV   \n",
       "\n",
       "                        ucr_1_category          ucr_1_description  ucr_1_code  \\\n",
       "591635  32* - PROPERTY DAMAGE ACCIDENT  PROP DAM ACC                     3224   \n",
       "591636  32* - PROPERTY DAMAGE ACCIDENT  PROP DAM ACC                     3224   \n",
       "591637                   06* - LARCENY  LARC3 SHOPLIFT                    624   \n",
       "591639                  05* - BURGLARY  BURG3-COM-NITE                    522   \n",
       "591640                   06* - LARCENY  LARC3-FROM M/V                    634   \n",
       "\n",
       "            ucr_2_category ucr_2_description  ucr_2_code  \\\n",
       "591635  23* - DRIVING LAWS  IMPROPER BACKING        2340   \n",
       "591636  23* - DRIVING LAWS    FTGRW/DRIVEWAY        2336   \n",
       "591637                 NaN               NaN           0   \n",
       "591639                 NaN               NaN           0   \n",
       "591640                 NaN               NaN           0   \n",
       "\n",
       "                neighborhood          primary_key location            datetime  \n",
       "591635  SOUTHEND              CIRS-21008791-0       72e771 2021-03-25 13:17:00  \n",
       "591636  UPPER ALBANY          CIRS-21008798-0       245ecb 2021-03-25 14:38:00  \n",
       "591637  BEHIND THE ROCKS      CIRS-21009417-0       3a786b 2021-03-31 17:38:00  \n",
       "591639  DOWNTOWN              CIRS-21008889-0       2841ad 2021-03-26 00:30:00  \n",
       "591640  BLUE HILLS            CIRS-21009143-0       01278f 2021-03-29 00:00:00  "
      ]
     },
     "execution_count": 9,
     "metadata": {},
     "output_type": "execute_result"
    }
   ],
   "source": [
    "data.head()"
   ]
  },
  {
   "cell_type": "code",
   "execution_count": 10,
   "metadata": {},
   "outputs": [],
   "source": [
    "# After normalizations, we inserted these data into the influxDB\n",
    "# InfluxDB data schema design like this:\n",
    "# - Bucket: Hartford\n",
    "# - Measurement: police_incidents\n",
    "# - Tags: \n",
    "#   - location: S2 cell token\n",
    "#   - neighborhood: neighborhood name\n",
    "#   - address: address\n",
    "#   - ucr_1_code\n",
    "#   - ucr_2_code\n",
    "#   - ucr_1_category\n",
    "#   - ucr_2_category\n",
    "#   - ucr_1_description\n",
    "#   - ucr_2_description\n",
    "# - Fields:\n",
    "#   - primary_key\n",
    "#   - lon\n",
    "#   - lat\n",
    "# - Time: datetime\n",
    "\n",
    "\n",
    "# [hw] \n",
    "# you can try different schema design by yourself\n",
    "# and compare the performance of different schema design\n",
    "\n",
    "# In order to compare the difference of field and tag in query performance.\n",
    "# We create another bucket"
   ]
  },
  {
   "cell_type": "code",
   "execution_count": 11,
   "metadata": {},
   "outputs": [
    {
     "name": "stdout",
     "output_type": "stream",
     "text": [
      "bucket exist, delete it\n",
      "bucket Hartford created\n"
     ]
    }
   ],
   "source": [
    "BucketName = \"Hartford\"\n",
    "DEFAULT_ORG = \"docs\"\n",
    "bucket = client.buckets_api().find_bucket_by_name(bucket_name=BucketName)\n",
    "if bucket:\n",
    "    # bucket exist , reset it\n",
    "    print(\"bucket exist, delete it\")\n",
    "    client.buckets_api().delete_bucket(bucket)\n",
    "\n",
    "# create bucket\n",
    "bucket = client.buckets_api().create_bucket(bucket_name=BucketName, org_id=DEFAULT_ORG)\n",
    "if bucket:\n",
    "    print(f\"bucket {BucketName} created\")"
   ]
  },
  {
   "cell_type": "code",
   "execution_count": 12,
   "metadata": {},
   "outputs": [],
   "source": [
    "# insert these data into InfluxDB\n",
    "# [WARNING] before inserting through pd.Dataframe, we should guarantee there is no NaN value in the dataframe\n",
    "# OtherWise, the client will raise an error\n",
    "# @lingze: plz check above statement.\n",
    " \n",
    "# write_api = client.write_api(write_options=SYNCHRONOUS)\n",
    "# measurement = \"police_incidents\"\n",
    "# start = time.time()\n",
    "# batch_size = 2**15\n",
    "\n",
    "# for i in range(0, len(data), batch_size):\n",
    "#     data_batch = data.iloc[i:i+batch_size]\n",
    "#     write_api.write(\n",
    "#         bucket = BucketName,\n",
    "#         org = DEFAULT_ORG,\n",
    "#         record = data_batch,\n",
    "#         data_frame_measurement_name = measurement,\n",
    "#         data_frame_tag_columns = [\n",
    "#             \"location\", \n",
    "#             \"neighborhood\", \n",
    "#             \"address\", \n",
    "#             \"ucr_1_code\", \n",
    "#             \"ucr_2_code\", \n",
    "#             \"ucr_1_category\",\n",
    "#             \"ucr_2_category\", \n",
    "#             \"ucr_1_description\", \n",
    "#             \"ucr_2_description\"\n",
    "#         ],\n",
    "#         data_frame_field_columns = [\"primary_key\"],\n",
    "#         data_frame_time_index = \"datetime\"\n",
    "#     )\n",
    "#     print(f\"{i}/{len(data)} inserted\")\n",
    "# print(\"==> finished\")\n",
    "\n",
    "# [hw] you can uncomment the above code and try to execute it."
   ]
  },
  {
   "cell_type": "code",
   "execution_count": 13,
   "metadata": {},
   "outputs": [],
   "source": [
    "# first we divide the data into two parts, with NaN and w/o Nan\n",
    "nan_mask = data.isna().any(axis = 1)\n",
    "data_with_nan = data[nan_mask]\n",
    "data_without_nan = data[~nan_mask]"
   ]
  },
  {
   "cell_type": "code",
   "execution_count": 14,
   "metadata": {},
   "outputs": [],
   "source": [
    "write_api = client.write_api(write_options=SYNCHRONOUS)\n",
    "measurement = \"police_incidents\""
   ]
  },
  {
   "cell_type": "code",
   "execution_count": 15,
   "metadata": {},
   "outputs": [
    {
     "name": "stdout",
     "output_type": "stream",
     "text": [
      "0/25251 inserted\n",
      "==> finished in 0.8157320022583008 seconds\n"
     ]
    }
   ],
   "source": [
    "# for data without Nan, we insert through DataFrame easily\n",
    "start = time.time()\n",
    "batch_size = 2**15\n",
    "for i in range(0, len(data_without_nan), batch_size):\n",
    "    batch_data = data_without_nan.iloc[i:i+batch_size]\n",
    "    write_api.write(\n",
    "            bucket = BucketName,\n",
    "            org = DEFAULT_ORG,\n",
    "            record = batch_data,\n",
    "            data_frame_measurement_name = measurement,\n",
    "            data_frame_tag_columns = [\n",
    "                \"location\", \n",
    "                \"neighborhood\", \n",
    "                \"address\", \n",
    "                \"ucr_1_code\", \n",
    "                \"ucr_2_code\", \n",
    "                \"ucr_1_category\",\n",
    "                \"ucr_2_category\", \n",
    "                \"ucr_1_description\", \n",
    "                \"ucr_2_description\"\n",
    "            ],\n",
    "            data_frame_field_columns = [\n",
    "                \"primary_key\",\n",
    "                \"x\",\n",
    "                \"y\"\n",
    "            ],\n",
    "            data_frame_timestamp_column = \"datetime\"\n",
    "        )\n",
    "    print(f\"{i}/{len(data_without_nan)} inserted\")\n",
    "end = time.time()\n",
    "print(f\"==> finished in {end - start} seconds\")"
   ]
  },
  {
   "cell_type": "code",
   "execution_count": 16,
   "metadata": {},
   "outputs": [],
   "source": [
    "# for data with Nan, we insert by constructing Point\n",
    "nan_mask = data_with_nan.isna()\n",
    "records = data_with_nan.to_dict(orient=\"records\")\n",
    "record_key_mask = data.isna().to_dict(orient=\"records\")\n",
    "\n",
    "tags_columns = [\n",
    "    \"location\", \n",
    "    \"neighborhood\", \n",
    "    \"address\", \n",
    "    \"ucr_1_code\", \n",
    "    \"ucr_2_code\", \n",
    "    \"ucr_1_category\",\n",
    "    \"ucr_2_category\", \n",
    "    \"ucr_1_description\", \n",
    "    \"ucr_2_description\"\n",
    "]\n",
    "\n",
    "fields_columns = [\n",
    "    \"primary_key\",\n",
    "    \"x\",\n",
    "    \"y\"\n",
    "]\n",
    "\n",
    "time_column = \"datetime\""
   ]
  },
  {
   "cell_type": "code",
   "execution_count": 17,
   "metadata": {},
   "outputs": [
    {
     "name": "stdout",
     "output_type": "stream",
     "text": [
      "25159/25160 inserted\n",
      "==> finished in 1.3426175117492676 seconds\n"
     ]
    }
   ],
   "source": [
    "points = []\n",
    "batch_size = 2**15\n",
    "start = time.time()\n",
    "for idx,(record, key_mask) in enumerate(zip(records, record_key_mask)):\n",
    "    point_dict = {\n",
    "        \"measurement\": measurement\n",
    "    }\n",
    "    record_without_nan = {k: v for k, v in record.items() if not key_mask[k]}\n",
    "    point_dict['tags']={k: v for k, v in record_without_nan.items() if k in tags_columns}\n",
    "    point_dict['fields'] = {k: v for k, v in record_without_nan.items() if k in fields_columns}\n",
    "    point_dict['time'] = record_without_nan[time_column]\n",
    "    points.append(Point.from_dict(dictionary=point_dict))\n",
    "    \n",
    "    if (idx + 1) % batch_size == 0 or (idx + 1) == len(records):\n",
    "        write_api.write(bucket=BucketName, org=DEFAULT_ORG, record=points)\n",
    "        print(f\"{idx}/{len(records)} inserted\")\n",
    "        points = []\n",
    "\n",
    "end = time.time()\n",
    "print(f\"==> finished in {end - start} seconds\")\n"
   ]
  },
  {
   "cell_type": "code",
   "execution_count": 18,
   "metadata": {},
   "outputs": [],
   "source": [
    "query_api = client.query_api()"
   ]
  },
  {
   "cell_type": "code",
   "execution_count": 19,
   "metadata": {},
   "outputs": [
    {
     "name": "stdout",
     "output_type": "stream",
     "text": [
      "==> query finished in 8.563232898712158 seconds\n"
     ]
    },
    {
     "data": {
      "text/plain": [
       "[dict_values(['_result', 0, 4508, '1901', '19* - CRIMES AGAINST THE PUBLIC', 'BREACH-PEACE             ']),\n",
       " dict_values(['_result', 0, 2459, '5104', '51* - MISC. MANAGEMENT INFO.', 'COMM TENSION;COMM-SERVICE']),\n",
       " dict_values(['_result', 0, 2038, '3503', '35* - MISC. CRIMES AGAINST PROPERTY', 'CR MISCHIEF 3            ']),\n",
       " dict_values(['_result', 0, 2026, '2090', '20* - RADIO SIGNAL', 'RADIO SIGNAL             ']),\n",
       " dict_values(['_result', 0, 1940, '3221', '32* - PROPERTY DAMAGE ACCIDENT', 'PROP DAM ACC             ']),\n",
       " dict_values(['_result', 0, 1886, '2903', '29* - FOUND PERSON/PROPERTY', 'ABANDONED M/V            ']),\n",
       " dict_values(['_result', 0, 1863, '5211', '52* - SHOTS FIRED', 'SHOTS FIRED - UNCONFIRMED']),\n",
       " dict_values(['_result', 0, 1813, '2331', '23* - DRIVING LAWS', 'PARKING VIOLATION        ']),\n",
       " dict_values(['_result', 0, 1681, '3224', '32* - PROPERTY DAMAGE ACCIDENT', 'PROP DAM ACC             ']),\n",
       " dict_values(['_result', 0, 1414, '801', '08* - SIMPLE ASSAULT', 'ASSAULT 3                '])]"
      ]
     },
     "execution_count": 19,
     "metadata": {},
     "output_type": "execute_result"
    }
   ],
   "source": [
    "# First Query\n",
    "# Question: Top-10 most common types of polices cases in all time\n",
    "query = \"\"\"\n",
    "[hw] fill the query here\n",
    "\"\"\"\n",
    "start = time.time()\n",
    "tables = query_api.query(query=query, org=DEFAULT_ORG)\n",
    "end = time.time()\n",
    "print(f\"==> query finished in {end - start} seconds\")\n",
    "tables.to_values()\n"
   ]
  },
  {
   "cell_type": "code",
   "execution_count": 20,
   "metadata": {},
   "outputs": [
    {
     "name": "stdout",
     "output_type": "stream",
     "text": [
      "==> query finished in 2.0190980434417725 seconds\n"
     ]
    },
    {
     "data": {
      "text/plain": [
       "[dict_values(['_result', 0, datetime.datetime(2019, 12, 26, 0, 0, tzinfo=tzlocal()), 14]),\n",
       " dict_values(['_result', 0, datetime.datetime(2020, 1, 2, 0, 0, tzinfo=tzlocal()), 81]),\n",
       " dict_values(['_result', 0, datetime.datetime(2020, 1, 9, 0, 0, tzinfo=tzlocal()), 71]),\n",
       " dict_values(['_result', 0, datetime.datetime(2020, 1, 16, 0, 0, tzinfo=tzlocal()), 79]),\n",
       " dict_values(['_result', 0, datetime.datetime(2020, 1, 23, 0, 0, tzinfo=tzlocal()), 73])]"
      ]
     },
     "execution_count": 20,
     "metadata": {},
     "output_type": "execute_result"
    }
   ],
   "source": [
    "# Second Query\n",
    "# Question: Number of cases with code \"1901\" over time grouped by week\n",
    "query = \"\"\"\n",
    "[hw] fill the query here\n",
    "\"\"\"\n",
    "start = time.time()\n",
    "tables = query_api.query(query=query, org=DEFAULT_ORG)\n",
    "end = time.time()\n",
    "print(f\"==> query finished in {end - start} seconds\")\n",
    "tables.to_values()[:5]\n",
    "# better to execute above result in the InfluxDB UI\n",
    "# it will visualize the result in timeline graph, more intuitive"
   ]
  },
  {
   "cell_type": "code",
   "execution_count": 21,
   "metadata": {},
   "outputs": [
    {
     "name": "stdout",
     "output_type": "stream",
     "text": [
      "==> query finished in 10.81627345085144 seconds\n"
     ]
    },
    {
     "data": {
      "text/plain": [
       "[dict_values(['Latest Incident by ucr_1_code', 0, datetime.datetime(2021, 5, 17, 2, 31, tzinfo=tzlocal()), 'CIRS-21014480-0    ', '60 CAMPFIELD AV', '19* - CRIMES AGAINST THE PUBLIC', '1901', 'BREACH-PEACE             ']),\n",
       " dict_values(['Latest Incident by ucr_1_code', 1, datetime.datetime(2021, 5, 16, 17, 45, tzinfo=tzlocal()), 'CIRS-21014436-0    ', '24 MERRILL ST', '20* - RADIO SIGNAL', '2090', 'RADIO SIGNAL             ']),\n",
       " dict_values(['Latest Incident by ucr_1_code', 2, datetime.datetime(2021, 5, 14, 13, 33, tzinfo=tzlocal()), 'CIRS-21014211-0    ', '203 TRUMBULL ST', '23* - DRIVING LAWS', '2331', 'PARKING VIOLATION        ']),\n",
       " dict_values(['Latest Incident by ucr_1_code', 3, datetime.datetime(2021, 5, 12, 17, 50, tzinfo=tzlocal()), 'CIRS-21014004-0    ', '69 CURTISS ST', '29* - FOUND PERSON/PROPERTY', '2903', 'ABANDONED M/V            ']),\n",
       " dict_values(['Latest Incident by ucr_1_code', 4, datetime.datetime(2021, 5, 14, 20, 15, tzinfo=tzlocal()), 'CIRS-21014250-0    ', 'COGSWELL ST & GARDEN ST', '32* - PROPERTY DAMAGE ACCIDENT', '3221', 'PROP DAM ACC             '])]"
      ]
     },
     "execution_count": 21,
     "metadata": {},
     "output_type": "execute_result"
    }
   ],
   "source": [
    "# Third Query\n",
    "\n",
    "# Question: the latest incident (most recent time) for the top ten ucr_1_code from police_incidents measurement \n",
    "\n",
    "# we need to utilize the result of Query 1\n",
    "query = \"\"\"\n",
    "[hw] fill the query here\n",
    "\"\"\"\n",
    "start = time.time()\n",
    "tables = query_api.query(query=query, org=DEFAULT_ORG)\n",
    "end = time.time()\n",
    "print(f\"==> query finished in {end - start} seconds\")\n",
    "tables.to_values()[:5]"
   ]
  },
  {
   "cell_type": "code",
   "execution_count": null,
   "metadata": {},
   "outputs": [],
   "source": []
  }
 ],
 "metadata": {
  "kernelspec": {
   "display_name": "cs4221",
   "language": "python",
   "name": "python3"
  },
  "language_info": {
   "codemirror_mode": {
    "name": "ipython",
    "version": 3
   },
   "file_extension": ".py",
   "mimetype": "text/x-python",
   "name": "python",
   "nbconvert_exporter": "python",
   "pygments_lexer": "ipython3",
   "version": "3.9.21"
  }
 },
 "nbformat": 4,
 "nbformat_minor": 2
}
